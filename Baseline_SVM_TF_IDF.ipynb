{
  "nbformat": 4,
  "nbformat_minor": 0,
  "metadata": {
    "colab": {
      "provenance": [],
      "include_colab_link": true
    },
    "kernelspec": {
      "name": "python3",
      "display_name": "Python 3"
    },
    "language_info": {
      "name": "python"
    }
  },
  "cells": [
    {
      "cell_type": "markdown",
      "metadata": {
        "id": "view-in-github",
        "colab_type": "text"
      },
      "source": [
        "<a href=\"https://colab.research.google.com/github/bnanik/Shared_Task_SemEval2023/blob/main/Baseline_SVM_TF_IDF.ipynb\" target=\"_parent\"><img src=\"https://colab.research.google.com/assets/colab-badge.svg\" alt=\"Open In Colab\"/></a>"
      ]
    },
    {
      "cell_type": "code",
      "execution_count": null,
      "metadata": {
        "id": "b529t-5FBI1e"
      },
      "outputs": [],
      "source": [
        "import pandas as pd\n",
        "import numpy as np\n",
        "from nltk.tokenize import word_tokenize\n",
        "from nltk import pos_tag\n",
        "from nltk.corpus import stopwords\n",
        "from nltk.stem import WordNetLemmatizer\n",
        "from sklearn.preprocessing import LabelEncoder\n",
        "from collections import defaultdict\n",
        "from nltk.corpus import wordnet as wn\n",
        "from sklearn.feature_extraction.text import TfidfVectorizer\n",
        "from sklearn import model_selection, naive_bayes, svm\n",
        "from sklearn.metrics import accuracy_score"
      ]
    },
    {
      "cell_type": "code",
      "source": [
        "np.random.seed(500)"
      ],
      "metadata": {
        "id": "FG76U2J6BLHy"
      },
      "execution_count": null,
      "outputs": []
    },
    {
      "cell_type": "markdown",
      "source": [
        "# Load dataset"
      ],
      "metadata": {
        "id": "faTXJ56hBrQb"
      }
    },
    {
      "cell_type": "code",
      "source": [
        "data = pd.read_csv('/content/train_all_tasks.csv')\n",
        "df = data.filter(['text', 'label_sexist'])\n",
        "df.columns = ['text', 'label']\n",
        "df.head()"
      ],
      "metadata": {
        "colab": {
          "base_uri": "https://localhost:8080/",
          "height": 206
        },
        "id": "uLokOBEQBRG5",
        "outputId": "c2c73148-0dc2-43dd-e9f3-6c629a9a65dd"
      },
      "execution_count": null,
      "outputs": [
        {
          "output_type": "execute_result",
          "data": {
            "text/plain": [
              "                                                text label_sexist\n",
              "0              Damn, this writing was pretty chaotic   not sexist\n",
              "1  Yeah, and apparently a bunch of misogynistic v...   not sexist\n",
              "2       How the FUCK is this woman still an MP!!!???   not sexist\n",
              "3  Understand. Know you're right. At same time I ...   not sexist\n",
              "4     Surprized they didn't stop and rape some women   not sexist"
            ],
            "text/html": [
              "\n",
              "  <div id=\"df-a2468163-c097-4439-ba6e-f1e83cd2bf13\">\n",
              "    <div class=\"colab-df-container\">\n",
              "      <div>\n",
              "<style scoped>\n",
              "    .dataframe tbody tr th:only-of-type {\n",
              "        vertical-align: middle;\n",
              "    }\n",
              "\n",
              "    .dataframe tbody tr th {\n",
              "        vertical-align: top;\n",
              "    }\n",
              "\n",
              "    .dataframe thead th {\n",
              "        text-align: right;\n",
              "    }\n",
              "</style>\n",
              "<table border=\"1\" class=\"dataframe\">\n",
              "  <thead>\n",
              "    <tr style=\"text-align: right;\">\n",
              "      <th></th>\n",
              "      <th>text</th>\n",
              "      <th>label_sexist</th>\n",
              "    </tr>\n",
              "  </thead>\n",
              "  <tbody>\n",
              "    <tr>\n",
              "      <th>0</th>\n",
              "      <td>Damn, this writing was pretty chaotic</td>\n",
              "      <td>not sexist</td>\n",
              "    </tr>\n",
              "    <tr>\n",
              "      <th>1</th>\n",
              "      <td>Yeah, and apparently a bunch of misogynistic v...</td>\n",
              "      <td>not sexist</td>\n",
              "    </tr>\n",
              "    <tr>\n",
              "      <th>2</th>\n",
              "      <td>How the FUCK is this woman still an MP!!!???</td>\n",
              "      <td>not sexist</td>\n",
              "    </tr>\n",
              "    <tr>\n",
              "      <th>3</th>\n",
              "      <td>Understand. Know you're right. At same time I ...</td>\n",
              "      <td>not sexist</td>\n",
              "    </tr>\n",
              "    <tr>\n",
              "      <th>4</th>\n",
              "      <td>Surprized they didn't stop and rape some women</td>\n",
              "      <td>not sexist</td>\n",
              "    </tr>\n",
              "  </tbody>\n",
              "</table>\n",
              "</div>\n",
              "      <button class=\"colab-df-convert\" onclick=\"convertToInteractive('df-a2468163-c097-4439-ba6e-f1e83cd2bf13')\"\n",
              "              title=\"Convert this dataframe to an interactive table.\"\n",
              "              style=\"display:none;\">\n",
              "        \n",
              "  <svg xmlns=\"http://www.w3.org/2000/svg\" height=\"24px\"viewBox=\"0 0 24 24\"\n",
              "       width=\"24px\">\n",
              "    <path d=\"M0 0h24v24H0V0z\" fill=\"none\"/>\n",
              "    <path d=\"M18.56 5.44l.94 2.06.94-2.06 2.06-.94-2.06-.94-.94-2.06-.94 2.06-2.06.94zm-11 1L8.5 8.5l.94-2.06 2.06-.94-2.06-.94L8.5 2.5l-.94 2.06-2.06.94zm10 10l.94 2.06.94-2.06 2.06-.94-2.06-.94-.94-2.06-.94 2.06-2.06.94z\"/><path d=\"M17.41 7.96l-1.37-1.37c-.4-.4-.92-.59-1.43-.59-.52 0-1.04.2-1.43.59L10.3 9.45l-7.72 7.72c-.78.78-.78 2.05 0 2.83L4 21.41c.39.39.9.59 1.41.59.51 0 1.02-.2 1.41-.59l7.78-7.78 2.81-2.81c.8-.78.8-2.07 0-2.86zM5.41 20L4 18.59l7.72-7.72 1.47 1.35L5.41 20z\"/>\n",
              "  </svg>\n",
              "      </button>\n",
              "      \n",
              "  <style>\n",
              "    .colab-df-container {\n",
              "      display:flex;\n",
              "      flex-wrap:wrap;\n",
              "      gap: 12px;\n",
              "    }\n",
              "\n",
              "    .colab-df-convert {\n",
              "      background-color: #E8F0FE;\n",
              "      border: none;\n",
              "      border-radius: 50%;\n",
              "      cursor: pointer;\n",
              "      display: none;\n",
              "      fill: #1967D2;\n",
              "      height: 32px;\n",
              "      padding: 0 0 0 0;\n",
              "      width: 32px;\n",
              "    }\n",
              "\n",
              "    .colab-df-convert:hover {\n",
              "      background-color: #E2EBFA;\n",
              "      box-shadow: 0px 1px 2px rgba(60, 64, 67, 0.3), 0px 1px 3px 1px rgba(60, 64, 67, 0.15);\n",
              "      fill: #174EA6;\n",
              "    }\n",
              "\n",
              "    [theme=dark] .colab-df-convert {\n",
              "      background-color: #3B4455;\n",
              "      fill: #D2E3FC;\n",
              "    }\n",
              "\n",
              "    [theme=dark] .colab-df-convert:hover {\n",
              "      background-color: #434B5C;\n",
              "      box-shadow: 0px 1px 3px 1px rgba(0, 0, 0, 0.15);\n",
              "      filter: drop-shadow(0px 1px 2px rgba(0, 0, 0, 0.3));\n",
              "      fill: #FFFFFF;\n",
              "    }\n",
              "  </style>\n",
              "\n",
              "      <script>\n",
              "        const buttonEl =\n",
              "          document.querySelector('#df-a2468163-c097-4439-ba6e-f1e83cd2bf13 button.colab-df-convert');\n",
              "        buttonEl.style.display =\n",
              "          google.colab.kernel.accessAllowed ? 'block' : 'none';\n",
              "\n",
              "        async function convertToInteractive(key) {\n",
              "          const element = document.querySelector('#df-a2468163-c097-4439-ba6e-f1e83cd2bf13');\n",
              "          const dataTable =\n",
              "            await google.colab.kernel.invokeFunction('convertToInteractive',\n",
              "                                                     [key], {});\n",
              "          if (!dataTable) return;\n",
              "\n",
              "          const docLinkHtml = 'Like what you see? Visit the ' +\n",
              "            '<a target=\"_blank\" href=https://colab.research.google.com/notebooks/data_table.ipynb>data table notebook</a>'\n",
              "            + ' to learn more about interactive tables.';\n",
              "          element.innerHTML = '';\n",
              "          dataTable['output_type'] = 'display_data';\n",
              "          await google.colab.output.renderOutput(dataTable, element);\n",
              "          const docLink = document.createElement('div');\n",
              "          docLink.innerHTML = docLinkHtml;\n",
              "          element.appendChild(docLink);\n",
              "        }\n",
              "      </script>\n",
              "    </div>\n",
              "  </div>\n",
              "  "
            ]
          },
          "metadata": {},
          "execution_count": 5
        }
      ]
    },
    {
      "cell_type": "markdown",
      "source": [
        "# Data pre-processing\n",
        "\n",
        "* Remove Blank rows in Data, if any\n",
        "* Change all the text to lower case\n",
        "* Word Tokenization\n",
        "* Remove Stop words\n",
        "* Remove Non-alpha text\n",
        "* Word Lemmatization\n",
        "* Transform numbers"
      ],
      "metadata": {
        "id": "d-OtdX0_Bvci"
      }
    },
    {
      "cell_type": "code",
      "source": [
        "#  Remove blank rows if any.\n",
        "df['text'].dropna(inplace=True)"
      ],
      "metadata": {
        "id": "YYr_ZvTRBkIa"
      },
      "execution_count": null,
      "outputs": []
    },
    {
      "cell_type": "code",
      "source": [
        "#  Change all the text to lower case. \n",
        "df['text'] = [entry.lower() for entry in df['text']]"
      ],
      "metadata": {
        "id": "HixMOsPRE2ai"
      },
      "execution_count": null,
      "outputs": []
    },
    {
      "cell_type": "code",
      "source": [
        "\n",
        "import nltk\n",
        "nltk.download('punkt')\n",
        "nltk.download('wordnet')\n",
        "nltk.download('omw-1.4')\n",
        "nltk.download('averaged_perceptron_tagger')\n",
        "nltk.download('stopwords')"
      ],
      "metadata": {
        "id": "F8jqK3yjFar-"
      },
      "execution_count": null,
      "outputs": []
    },
    {
      "cell_type": "code",
      "source": [
        "#  Tokenization \n",
        "df['text']= [word_tokenize(entry) for entry in df['text']]"
      ],
      "metadata": {
        "id": "MBo5MSUoFCz6"
      },
      "execution_count": null,
      "outputs": []
    },
    {
      "cell_type": "code",
      "source": [
        "# Remove Stop words, Non-Numeric and perfom Word Stemming/Lemmenting.\n",
        "\n",
        "# WordNetLemmatizer requires Pos tags to understand if the word is noun or verb or adjective etc. By default it is set to Noun\n",
        "tag_map = defaultdict(lambda : wn.NOUN)\n",
        "tag_map['J'] = wn.ADJ\n",
        "tag_map['V'] = wn.VERB\n",
        "tag_map['R'] = wn.ADV\n",
        "for index,entry in enumerate(df['text']):\n",
        "    # Declaring Empty List to store the words that follow the rules for this step\n",
        "    Final_words = []\n",
        "    # Initializing WordNetLemmatizer()\n",
        "    word_Lemmatized = WordNetLemmatizer()\n",
        "    # pos_tag function below will provide the 'tag' i.e if the word is Noun(N) or Verb(V) or something else.\n",
        "    for word, tag in pos_tag(entry):\n",
        "        # Below condition is to check for Stop words and consider only alphabets\n",
        "        if word not in stopwords.words('english') and word.isalpha():\n",
        "            word_Final = word_Lemmatized.lemmatize(word,tag_map[tag[0]])\n",
        "            Final_words.append(word_Final)\n",
        "    # The final processed set of words for each iteration will be stored in 'text_final'\n",
        "    df.loc[index,'text_final'] = str(Final_words)"
      ],
      "metadata": {
        "id": "TqCQw_igFPdT"
      },
      "execution_count": null,
      "outputs": []
    },
    {
      "cell_type": "markdown",
      "source": [
        "# Prepare Train and Test Data sets"
      ],
      "metadata": {
        "id": "RIikKTxcIJWj"
      }
    },
    {
      "cell_type": "code",
      "source": [
        "Train_X, Test_X, Train_Y, Test_Y = model_selection.train_test_split(df['text_final'],df['label_sexist'],test_size=0.3)"
      ],
      "metadata": {
        "id": "dSHjjKMPFjS7"
      },
      "execution_count": null,
      "outputs": []
    },
    {
      "cell_type": "markdown",
      "source": [
        "# Encoding"
      ],
      "metadata": {
        "id": "jCLoE_ejIOLh"
      }
    },
    {
      "cell_type": "code",
      "source": [
        "Encoder = LabelEncoder()\n",
        "Train_Y = Encoder.fit_transform(Train_Y)\n",
        "Test_Y = Encoder.fit_transform(Test_Y)"
      ],
      "metadata": {
        "id": "8qylFBGjH3iC"
      },
      "execution_count": null,
      "outputs": []
    },
    {
      "cell_type": "markdown",
      "source": [
        "# Word Vectorization (TF-IDF)"
      ],
      "metadata": {
        "id": "QonSwJ4AIYlB"
      }
    },
    {
      "cell_type": "code",
      "source": [
        "Tfidf_vect = TfidfVectorizer(max_features=5000)\n",
        "Tfidf_vect.fit(df['text_final'])\n",
        "Train_X_Tfidf = Tfidf_vect.transform(Train_X)\n",
        "Test_X_Tfidf = Tfidf_vect.transform(Test_X)"
      ],
      "metadata": {
        "id": "Zm_zA3cqIXbB"
      },
      "execution_count": null,
      "outputs": []
    },
    {
      "cell_type": "code",
      "source": [
        "print(Tfidf_vect.vocabulary_)"
      ],
      "metadata": {
        "colab": {
          "base_uri": "https://localhost:8080/"
        },
        "id": "u7Da58zwLLQi",
        "outputId": "2bd254ea-ebe5-4b04-b684-232959d08855"
      },
      "execution_count": null,
      "outputs": [
        {
          "output_type": "stream",
          "name": "stdout",
          "text": [
            "{'damn': 1091, 'pretty': 3473, 'yeah': 4975, 'apparently': 214, 'bunch': 619, 'misogynistic': 2865, 'virgin': 4779, 'one': 3138, 'turn': 4649, 'gay': 1804, 'woman': 4931, 'straight': 4296, 'lol': 2629, 'fuck': 1763, 'still': 4283, 'mp': 2939, 'understand': 4687, 'know': 2475, 'right': 3781, 'time': 4527, 'enough': 1411, 'money': 2904, 'world': 4945, 'induce': 2258, 'female': 1599, 'equivalent': 1431, 'stop': 4291, 'rape': 3628, 'order': 3163, 'keep': 2441, 'benefit': 437, 'good': 1877, 'tell': 4449, 'could': 989, 'try': 4640, 'hahaha': 1966, 'wish': 4919, 'would': 4955, 'live': 2612, 'truth': 4639, 'cut': 1078, 'shit': 3998, 'worry': 4949, 'society': 4139, 'head': 2027, 'mod': 2880, 'say': 3875, 'talk': 4415, 'make': 2700, 'post': 3427, 'anyone': 201, 'classify': 792, 'freak': 1735, 'unlike': 4711, 'inside': 2289, 'wallet': 4812, 'cash': 682, 'bank': 361, 'card': 670, 'credit': 1026, 'matter': 2745, 'femoids': 1611, 'definitely': 1136, 'go': 1863, 'much': 2944, 'detail': 1189, 'happen': 1997, 'put': 3581, 'dry': 1327, 'get': 1837, 'involve': 2343, 'top': 4554, 'thing': 4493, 'oh': 3129, 'clearly': 797, 'big': 457, 'trait': 4591, 'use': 4730, 'magic': 2688, 'rp': 3825, 'word': 4939, 'initial': 2272, 'chance': 717, 'attractive': 294, 'flock': 1670, 'see': 3924, 'hesitate': 2063, 'jump': 2426, 'first': 1648, 'president': 3465, 'ban': 354, 'sport': 4223, 'ball': 351, 'forever': 1704, 'play': 3369, 'amateur': 154, 'shekel': 3989, 'sometimes': 4159, 'girl': 1851, 'reason': 3660, 'bar': 362, 'far': 1552, 'immediately': 2211, 'remind': 3704, 'abundance': 18, 'hot': 2138, 'quickly': 3593, 'forget': 1705, 'particular': 3242, 'trump': 4637, 'immigration': 2213, 'policy': 3400, 'canadian': 656, 'may': 2750, 'thanks': 4477, 'also': 148, 'evidence': 1467, 'like': 2592, 'goldberg': 1872, 'since': 4052, 'pose': 3418, 'sjw': 4067, 'professional': 3509, 'troll': 4626, 'share': 3983, 'pic': 3333, 'year': 4976, 'old': 3134, 'relative': 3694, 'pedophile': 3277, 'dumb': 1333, 'blatantly': 493, 'fucking': 1768, 'place': 3358, 'shill': 3994, 'ugly': 4671, 'pussy': 3579, 'nine': 3043, 'arab': 229, 'monkey': 2909, 'idiot': 2187, 'nazi': 2999, 'bitch': 476, 'lefty': 2549, 'dad': 1085, 'offer': 3122, 'daughter': 1106, 'knock': 2474, 'maga': 2685, 'hat': 2018, 'guy': 1953, 'sit': 4061, 'mind': 2843, 'business': 629, 'leftist': 2548, 'classy': 793, 'url': 4728, 'want': 4818, 'attack': 281, 'culture': 1062, 'norm': 3059, 'call': 648, 'always': 153, 'suspicious': 4382, 'comment': 854, 'video': 4770, 'game': 1791, 'feeling': 1590, 'think': 4494, 'plus': 3383, 'meet': 2773, 'ton': 4548, 'nah': 2976, 'black': 483, 'reply': 3719, 'tinder': 4528, 'even': 1455, 'white': 4884, 'men': 2786, 'privilege': 3495, 'cancel': 657, 'as': 250, 'today': 4538, 'ask': 256, 'divorce': 1266, 'collect': 834, 'huge': 2153, 'alimony': 130, 'check': 732, 'spend': 4202, 'source': 4177, 'must': 2966, 'protect': 3538, 'cost': 985, 'especially': 1441, 'hate': 2019, 'gene': 1813, 'disappear': 1225, 'please': 3377, 'mess': 2800, 'need': 3009, 'feel': 1589, 'smack': 4108, 'indian': 2250, 'savage': 3870, 'wife': 4897, 'tie': 4521, 'tree': 4616, 'hour': 2142, 'give': 1854, 'lash': 2508, 'husband': 2169, 'mob': 2876, 'sexually': 3967, 'assault': 264, 'guarantee': 1939, 'deny': 1163, 'prime': 3483, 'target': 4424, 'influence': 2266, 'lot': 2650, 'people': 3288, 'satan': 3863, 'many': 2717, 'bring': 585, 'rid': 3775, 'love': 2654, 'respect': 3745, 'whore': 4892, 'kill': 2455, 'piece': 3340, 'commie': 858, 'delete': 1143, 'little': 2611, 'manage': 2707, 'act': 53, 'force': 1698, 'lady': 2495, 'wear': 4839, 'wonder': 4935, 'constantly': 932, 'war': 4820, 'bottle': 542, 'sexual': 3964, 'frustration': 1759, 'mean': 2757, 'truly': 4636, 'pick': 3334, 'chick': 747, 'friend': 1747, 'contact': 940, 'might': 2824, 'somebody': 4154, 'single': 4056, 'user': 4734, 'fire': 1646, 'service': 3950, 'obama': 3092, 'kind': 2459, 'captain': 668, 'course': 999, 'however': 2148, 'american': 162, 'university': 4709, 'student': 4316, 'agree': 107, 'revoke': 3765, 'consent': 925, 'sex': 3961, 'rise': 3787, 'link': 2600, 'man': 2706, 'argue': 234, 'murder': 2955, 'okay': 3133, 'sub': 4324, 'natural': 2993, 'wise': 4917, 'trust': 4638, 'issue': 2366, 'obviously': 3107, 'didnt': 1199, 'news': 3030, 'voice': 4789, 'islam': 2359, 'screw': 3903, 'opportunity': 3152, 'sleep': 4089, 'prevent': 3474, 'perpetuate': 3303, 'retard': 3756, 'meal': 2756, 'god': 1867, 'help': 2055, 'marry': 2725, 'silly': 4041, 'ignorant': 2194, 'history': 2090, 'original': 3170, 'jew': 2395, 'planet': 3363, 'example': 1474, 'allow': 139, 'chicken': 748, 'cream': 1017, 'sauce': 3868, 'never': 3025, 'mother': 2929, 'milk': 2836, 'maybe': 2751, 'date': 1104, 'someone': 4156, 'side': 4031, 'dick': 1196, 'something': 4157, 'along': 143, 'line': 2598, 'anything': 202, 'well': 4857, 'mention': 2792, 'shes': 3991, 'bang': 357, 'monk': 2908, 'mode': 2881, 'though': 4503, 'hope': 2125, 'asshat': 266, 'charge': 722, 'former': 1711, 'new': 3027, 'south': 4178, 'australian': 305, 'state': 4259, 'nerve': 3019, 'australia': 304, 'close': 807, 'ally': 140, 'shithole': 4000, 'praise': 3441, 'chinese': 756, 'communist': 867, 'party': 3245, 'leadership': 2534, 'haiti': 1976, 'cooky': 967, 'next': 3031, 'sewer': 3960, 'modern': 2884, 'america': 161, 'great': 1916, 'achievement': 45, 'wealth': 4836, 'crap': 1012, 'food': 1690, 'barely': 368, 'mobile': 2877, 'lie': 2585, 'kitchen': 2466, 'believe': 425, 'gender': 1812, 'social': 4133, 'construct': 936, 'punish': 3565, 'walk': 4808, 'naked': 2979, 'public': 3556, 'whether': 4875, 'male': 2702, 'ew': 1470, 'away': 323, 'disgust': 1238, 'engage': 1406, 'long': 2634, 'ago': 106, 'confidence': 906, 'attainable': 284, 'nuke': 3080, 'stupid': 4321, 'mouth': 2935, 'find': 1642, 'accuse': 42, 'bad': 340, 'victim': 4767, 'rag': 3614, 'pretend': 3472, 'care': 671, 'volunteer': 4792, 'catholic': 690, 'hard': 2004, 'come': 846, 'mostly': 2928, 'chant': 720, 'manly': 2715, 'music': 2961, 'shy': 4027, 'open': 3147, 'small': 4109, 'mutual': 2970, 'rather': 3636, 'start': 4256, 'stranger': 4298, 'toronto': 4557, 'police': 3399, 'arrest': 242, 'suspect': 4380, 'playground': 3373, 'shoot': 4009, 'second': 3915, 'injure': 2276, 'two': 4663, 'young': 4987, 'already': 146, 'look': 2636, 'hi': 2065, 'really': 3658, 'appreciate': 221, 'fyi': 1784, 'number': 3081, 'friday': 1745, 'proceed': 3504, 'pay': 3265, 'usa': 4729, 'back': 334, 'four': 1721, 'combat': 842, 'unit': 4705, 'join': 2410, 'shove': 4020, 'pork': 3415, 'throat': 4511, 'mika': 2828, 'msnbc': 2943, 'morning': 2923, 'joe': 2407, 'disgusting': 1239, 'fascist': 1556, 'opposite': 3154, 'everything': 1464, 'hell': 2052, 'gabfam': 1786, 'gab': 1785, 'stick': 4282, 'best': 443, 'else': 1376, 'political': 3403, 'view': 4771, 'nut': 3086, 'majority': 2699, 'manager': 2708, 'guess': 1941, 'explain': 1500, 'hillary': 2079, 'clinton': 804, 'security': 3921, 'clearance': 796, 'withdraw': 4921, 'way': 4833, 'friendship': 1750, 'operate': 3149, 'happy': 2001, 'holiday': 2102, 'ugh': 4670, 'sorry': 4170, 'proud': 3543, 'actively': 56, 'reject': 3689, 'drop': 1322, 'dead': 1112, 'gorgeous': 1884, 'beauty': 404, 'class': 790, 'smart': 4110, 'somewhere': 4161, 'let': 2564, 'felt': 1598, 'easy': 1354, 'deal': 1114, 'afterwards': 98, 'watch': 4829, 'conventionally': 955, 'seem': 3927, 'cool': 968, 'match': 2741, 'dude': 1329, 'stand': 4252, 'incel': 2234, 'baby': 332, 'trigger': 4623, 'passive': 3249, 'aggressive': 105, 'face': 1518, 'worthless': 4953, 'coward': 1005, 'loser': 2648, 'nigger': 3037, 'leave': 2543, 'human': 2157, 'alone': 142, 'yea': 4974, 'animal': 180, 'nice': 3033, 'sick': 4028, 'habit': 1961, 'spoil': 4219, 'lee': 2545, 'career': 672, 'street': 4303, 'brown': 597, 'senate': 3934, 'ausfam': 301, 'auspol': 302, 'tbh': 4431, 'brother': 595, 'borderline': 534, 'autistic': 312, 'overweight': 3196, 'short': 4014, 'stacies': 4237, 'fill': 1632, 'take': 4412, 'fact': 1521, 'die': 1200, 'bitter': 480, 'cat': 687, 'eat': 1355, 'everybody': 1461, 'chain': 713, 'hand': 1987, 'lean': 2537, 'towards': 4570, 'horror': 2132, 'movie': 2938, 'excuse': 1483, 'comedy': 848, 'fun': 1776, 'least': 2542, 'interested': 2319, 'success': 4334, 'object': 3097, 'bicycle': 455, 'bikini': 461, 'grow': 1935, 'listen': 2606, 'song': 4163, 'rewrite': 3768, 'others': 3172, 'version': 4759, 'response': 3749, 'create': 1018, 'slept': 4091, 'every': 1460, 'except': 1476, 'bet': 444, 'door': 1292, 'hear': 2033, 'grant': 1908, 'glass': 1857, 'surely': 4370, 'stab': 4235, 'beat': 400, 'fair': 1531, 'return': 3760, 'study': 4317, 'low': 2658, 'end': 1399, 'high': 2070, 'classic': 791, 'toxic': 4573, 'accept': 26, 'nature': 2995, 'destroy': 1186, 'either': 1367, 'voter': 4796, 'stare': 4255, 'eye': 1516, 'hold': 2100, 'break': 568, 'afraid': 95, 'conversation': 956, 'notion': 3071, 'work': 4940, 'anon': 188, 'retire': 3758, 'suck': 4336, 'whole': 4888, 'group': 1933, 'band': 356, 'together': 4540, 'fight': 1627, 'behalf': 415, 'interest': 2318, 'trade': 4577, 'complex': 881, 'complicate': 882, 'sure': 4369, 'prove': 3544, 'wrong': 4964, 'problem': 3502, 'intelligent': 2311, 'future': 1782, 'lovely': 2655, 'land': 2499, 'mediterranean': 2771, 'home': 2107, 'demonstrate': 1158, 'wild': 4901, 'lack': 2490, 'agency': 101, 'equal': 1427, 'without': 4923, 'responsibility': 3750, 'serious': 3946, 'mistake': 2871, 'op': 3146, 'shame': 3978, 'story': 4295, 'mensrights': 2788, 'fit': 1651, 'feminist': 1608, 'agenda': 102, 'hide': 2068, 'type': 4665, 'actually': 62, 'hurt': 2168, 'thousand': 4505, 'schoolgirl': 3890, 'tragic': 4586, 'innocent': 2282, 'child': 750, 'cage': 643, 'corbyn': 974, 'slam': 4082, 'predator': 3448, 'sign': 4036, 'dump': 1335, 'paint': 3208, 'fuckin': 1767, 'larp': 2505, 'idk': 2190, 'cultural': 1060, 'appropriation': 224, 'full': 1774, 'different': 1203, 'blonde': 503, 'decide': 1124, 'creator': 1022, 'probably': 3500, 'lose': 2647, 'feminine': 1604, 'power': 3437, 'insulting': 2305, 'funny': 1780, 'harm': 2009, 'laugh': 2517, 'hilarious': 2076, 'joke': 2411, 'foid': 1682, 'primitive': 3484, 'creature': 1023, 'personality': 3310, 'register': 3685, 'hypergamous': 2171, 'brain': 559, 'vote': 4795, 'blm': 499, 'possible': 3425, 'ahead': 110, 'inner': 2281, 'room': 3812, 'rap': 3627, 'buy': 637, 'ring': 3783, 'awhile': 327, 'steal': 4269, 'insurance': 2306, 'split': 4218, 'value': 4748, 'thief': 4490, 'scar': 3880, 'cheap': 729, 'profit': 3512, 'ashamed': 252, 'self': 3929, 'af': 88, 'tho': 4499, 'tranny': 4595, 'reddit': 3671, 'none': 3053, 'challenge': 715, 'scenario': 3884, 'yup': 4994, 'hit': 2091, 'wall': 4811, 'tired': 4533, 'bye': 639, 'club': 814, 'horny': 2129, 'positive': 3420, 'discussion': 1235, 'waste': 4828, 'anyway': 204, 'nervous': 3020, 'judging': 2422, 'situation': 4064, 'around': 240, 'worth': 4952, 'stfu': 4281, 'pedo': 3274, 'pls': 3381, 'underage': 4686, 'cross': 1044, 'average': 317, 'asian': 254, 'send': 3936, 'message': 2801, 'democrat': 1153, 'porn': 3416, 'cause': 693, 'unrealistic': 4713, 'expectation': 1492, 'wow': 4958, 'aware': 322, 'laundry': 2521, 'list': 2605, 'requirement': 3735, 'eventually': 1458, 'gop': 1883, 'agent': 103, 'embarrass': 1380, 'dems': 1159, 'speak': 4190, 'ny': 3089, 'faux': 1568, 'conservative': 927, 'teeth': 4447, 'confirmation': 910, 'kavanaugh': 2439, 'supreme': 4368, 'court': 1000, 'lulz': 2666, 'hahahaha': 1968, 'observation': 3103, 'ever': 1459, 'drunk': 1325, 'lesbian': 2561, 'lead': 2532, 'germany': 1835, 'victory': 4768, 'college': 837, 'fu': 1762, 'david': 1107, 'degree': 1141, 'include': 2240, 'iq': 2346, 'day': 1109, 'education': 1360, 'write': 4962, 'attend': 287, 'trial': 4619, 'burn': 622, 'basement': 375, 'im': 2203, 'seduce': 3922, 'rule': 3830, 'volcel': 4790, 'ca': 640, 'illegal': 2199, 'invader': 2333, 'free': 1737, 'berkeley': 439, 'professor': 3510, 'display': 1247, 'read': 3648, 'treat': 4614, 'current': 1069, 'family': 1543, 'dating': 1105, 'yet': 4982, 'revenge': 3762, 'tone': 4549, 'level': 2566, 'judge': 2420, 'minute': 2852, 'complete': 879, 'show': 4021, 'guilty': 1946, 'spew': 4205, 'develop': 1191, 'skill': 4072, 'exist': 1487, 'trap': 4604, 'regular': 3687, 'pull': 3561, 'ai': 112, 'fault': 1567, 'hotties': 2141, 'feminism': 1606, 'moral': 2919, 'fag': 1525, 'hooker': 2122, 'meth': 2807, 'real': 3652, 'fast': 1558, 'teen': 4444, 'fantasy': 1549, 'nomination': 3051, 'subscribe': 4331, 'channel': 719, 'er': 1432, 'muslim': 2962, 'plan': 3361, 'disqualify': 1250, 'deliberately': 1144, 'country': 995, 'treason': 4612, 'angela': 176, 'merkel': 2798, 'bell': 428, 'fat': 1560, 'utterly': 4739, 'cunt': 1064, 'sperm': 4204, 'chill': 753, 'night': 3038, 'fine': 1643, 'infect': 2261, 'std': 4268, 'person': 3307, 'dnc': 1272, 'raise': 3618, 'twitter': 4662, 'statement': 4260, 'online': 3141, 'ridiculous': 3778, 'seriously': 3947, 'last': 2510, 'debate': 1117, 'miss': 2867, 'rest': 3752, 'nation': 2988, 'past': 3250, 'week': 4845, 'enslave': 1414, 'appearance': 217, 'literally': 2609, 'boyfriend': 553, 'option': 3158, 'marriage': 2723, 'yes': 4980, 'note': 3067, 'slavic': 4088, 'melania': 2779, 'brilliant': 584, 'importantly': 2221, 'program': 3513, 'remote': 3708, 'name': 2980, 'part': 3239, 'cartel': 679, 'win': 4907, 'election': 1370, 'dirty': 1221, 'deed': 1128, 'backfire': 335, 'owe': 3197, 'million': 2839, 'foreigner': 1702, 'bullshit': 615, 'semi': 3933, 'pistol': 3352, 'google': 1880, 'gather': 1802, 'spawn': 4189, 'necessary': 3007, 'evil': 1468, 'puppet': 3568, 'master': 2738, 'session': 3951, 'useless': 4733, 'nwo': 3087, 'california': 647, 'mayor': 2752, 'escalate': 1438, 'city': 783, 'creepy': 1029, 'gym': 1955, 'mom': 2899, 'complaint': 878, 'instead': 2301, 'supply': 4360, 'panty': 3223, 'shooter': 4010, 'do': 1273, 'hang': 1992, 'realize': 3657, 'test': 4461, 'intention': 2314, 'tall': 4416, 'bs': 603, 'apps': 227, 'hitler': 2092, 'support': 4361, 'wait': 4804, 'saw': 3873, 'buddy': 607, 'skip': 4075, 'ya': 4972, 'touch': 4562, 'wash': 4826, 'nothing': 3068, 'british': 589, 'soldier': 4146, 'rage': 3615, 'afghan': 94, 'town': 4572, 'liberate': 2573, 'incels': 2235, 'behave': 416, 'vicious': 4766, 'cruel': 1047, 'forth': 1713, 'projection': 3517, 'bro': 590, 'tip': 4531, 'addiction': 68, 'drive': 1319, 'accident': 31, 'personally': 3311, 'insecure': 2286, 'spot': 4224, 'obvious': 3106, 'insecurity': 2287, 'car': 669, 'shoe': 4008, 'girls': 1853, 'tale': 4413, 'thats': 4478, 'point': 3393, 'indictment': 2254, 'suffer': 4342, 'swamp': 4384, 'asshole': 267, 'tend': 4452, 'being': 422, 'vagina': 4742, 'common': 862, 'sense': 3938, 'attention': 288, 'focus': 1681, 'meaningful': 2759, 'argument': 235, 'circumcision': 779, 'body': 517, 'unless': 4710, 'medical': 2767, 'welcome': 4855, 'european': 1454, 'refugee': 3679, 'enemy': 1403, 'amongst': 165, 'nowadays': 3074, 'ground': 1932, 'washington': 4827, 'probation': 3501, 'christian': 766, 'faith': 1533, 'front': 1756, 'claim': 789, 'special': 4193, 'admit': 75, 'tragedy': 4585, 'costume': 986, 'fall': 1536, 'jerk': 2392, 'job': 2406, 'drug': 1324, 'weed': 4844, 'incredibly': 2245, 'alt': 149, 'large': 2503, 'worship': 4951, 'goddess': 1869, 'bos': 538, 'actor': 59, 'harvey': 2016, 'weinstein': 4852, 'threaten': 4508, 'sigh': 4034, 'mangina': 2709, 'mgtow': 2813, 'picture': 3338, 'profile': 3511, 'super': 4356, 'busy': 631, 'saturday': 3867, 'light': 2590, 'hearted': 2038, 'star': 4254, 'invade': 2332, 'space': 4184, 'impose': 2222, 'weak': 4834, 'rationalize': 3641, 'arrogant': 243, 'selfish': 3930, 'prick': 3479, 'george': 1832, 'soros': 4169, 'everywhere': 1466, 'liberal': 2572, 'connect': 919, 'term': 4455, 'indicate': 2251, 'badly': 342, 'everyone': 1463, 'princess': 3486, 'worse': 4950, 'exact': 1472, 'extreme': 1514, 'flip': 1666, 'shot': 4016, 'commercial': 857, 'mad': 2679, 'thought': 4504, 'mentally': 2791, 'ill': 2198, 'identity': 2183, 'heritage': 2059, 'chelsea': 738, 'bear': 397, 'position': 3419, 'clear': 795, 'spirit': 4213, 'cook': 965, 'dinner': 1214, 'hag': 1963, 'obese': 3094, 'sucker': 4337, 'punch': 3564, 'cheerleader': 736, 'kick': 2450, 'karma': 2435, 'lily': 2595, 'kate': 2436, 'ryan': 3838, 'personal': 3309, 'earth': 1350, 'jealous': 2385, 'empty': 1395, 'decade': 1119, 'assume': 271, 'surprised': 4373, 'false': 1538, 'within': 4922, 'imagine': 2206, 'instant': 2299, 'validation': 4746, 'attraction': 293, 'cover': 1002, 'population': 3414, 'possibly': 3426, 'misogynist': 2864, 'market': 2722, 'major': 2698, 'nerd': 3018, 'desperate': 1180, 'hey': 2064, 'teach': 4434, 'dog': 1279, 'queen': 3588, 'beta': 445, 'month': 2914, 'contest': 944, 'winner': 4913, 'early': 1348, 'motherfucker': 2930, 'kid': 2452, 'hole': 2101, 'pop': 3411, 'cast': 683, 'stone': 4290, 'granny': 1907, 'photo': 3328, 'leak': 2536, 'russian': 3836, 'satellite': 3865, 'speakfreely': 4191, 'contradict': 948, 'rich': 3772, 'celebrity': 698, 'automatically': 313, 'remove': 3710, 'swim': 4393, 'idea': 2180, 'following': 1688, 'uk': 4673, 'burqa': 624, 'halal': 1977, 'follow': 1685, 'crime': 1031, 'prison': 3490, 'sentence': 3941, 'incest': 2237, 'cousin': 1001, 'previous': 3475, 'reference': 3678, 'deportation': 1169, 'criminal': 1032, 'daca': 1084, 'nancy': 2981, 'pelosi': 3282, 'skin': 4073, 'grandson': 1906, 'widow': 4896, 'prey': 3477, 'predict': 3449, 'blame': 489, 'oppression': 3156, 'dangerous': 1097, 'valid': 4744, 'lonely': 2633, 'gladly': 1856, 'loneliness': 2632, 'death': 1116, 'wave': 4832, 'experience': 1497, 'true': 4635, 'pregnant': 3455, 'mark': 2721, 'signal': 4037, 'monday': 2903, 'wan': 4815, 'na': 2974, 'loose': 2644, 'confident': 907, 'ta': 4405, 'question': 3590, 'openly': 3148, 'thank': 4474, 'egg': 1364, 'donor': 1290, 'sole': 4147, 'custody': 1075, 'admits': 76, 'nude': 3079, 'scratch': 3899, 'phone': 3326, 'location': 2622, 'jfl': 2399, 'femoid': 1610, 'roastie': 3795, 'pm': 3385, 'seeker': 3926, 'behavior': 417, 'pathetic': 3255, 'attorney': 290, 'pass': 3247, 'judgement': 2421, 'mental': 2789, 'ideal': 2181, 'account': 37, 'perfect': 3293, 'filthy': 1636, 'cock': 822, 'tunnel': 4645, 'ltr': 2662, 'dishonest': 1241, 'regardless': 3683, 'bastard': 380, 'equality': 1428, 'law': 2524, 'um': 4676, 'accord': 35, 'theory': 4480, 'reproduce': 3725, 'period': 3298, 'doubt': 1299, 'suffrage': 4343, 'democracy': 1152, 'failed': 1528, 'experiment': 1498, 'amwf': 168, 'relationship': 3693, 'fix': 1654, 'unattractive': 4680, 'diet': 1201, 'anyways': 205, 'dress': 1316, 'prom': 3518, 'impression': 2226, 'pure': 3570, 'loyal': 2660, 'dot': 1297, 'church': 774, 'sound': 4175, 'liar': 2570, 'plenty': 3379, 'minority': 2850, 'kino': 2464, 'connection': 920, 'vibe': 4764, 'kiss': 2465, 'favor': 1570, 'machete': 2675, 'negro': 3013, 'mexican': 2811, 'almost': 141, 'deserve': 1176, 'destruction': 1187, 'throw': 4513, 'among': 164, 'bomb': 520, 'threat': 4507, 'madonna': 2683, 'famous': 1544, 'nasty': 2987, 'fart': 1555, 'ethnicity': 1451, 'hypergamy': 2172, 'race': 3604, 'iois': 2345, 'otherwise': 3173, 'life': 2586, 'bounce': 544, 'venue': 4756, 'favorite': 1571, 'dance': 1094, 'floor': 1673, 'alpha': 145, 'status': 4266, 'honey': 2116, 'flat': 1660, 'pole': 3398, 'ig': 2192, 'mommy': 2902, 'file': 1631, 'report': 3720, 'lmfao': 2615, 'notice': 3069, 'retarded': 3757, 'ignore': 2195, 'surprise': 4372, 'strong': 4313, 'village': 4773, 'stump': 4319, 'add': 66, 'upper': 4720, 'middle': 2821, 'another': 190, 'known': 2478, 'hundred': 2163, 'bullet': 614, 'wo': 4928, 'slow': 4100, 'press': 3469, 'john': 2408, 'mccain': 2753, 'betray': 447, 'failure': 1530, 'three': 4509, 'pickle': 3335, 'politician': 3405, 'bill': 462, 'adopt': 78, 'wont': 4937, 'fly': 1679, 'lesson': 2563, 'virginity': 4781, 'rt': 3826, 'strict': 4307, 'guideline': 1944, 'complicit': 883, 'bless': 496, 'chose': 763, 'alternative': 150, 'choice': 759, 'imo': 2215, 'breast': 571, 'repost': 3722, 'newgabber': 3029, 'followattack': 1686, 'review': 3764, 'suitability': 4350, 'jim': 2404, 'heart': 2036, 'become': 405, 'pope': 3412, 'republic': 3728, 'film': 1633, 'hypocrisy': 2173, 'sarah': 3859, 'champion': 716, 'pakistani': 3212, 'gang': 1793, 'labour': 2488, 'warren': 4824, 'equally': 1429, 'mega': 2775, 'red': 3670, 'irl': 2352, 'monster': 2912, 'run': 3832, 'pair': 3209, 'inflict': 2265, 'madness': 2682, 'damage': 1089, 'poor': 3410, 'richard': 3773, 'sister': 4060, 'zionist': 4997, 'snl': 4128, 'feminists': 1609, 'patriarchy': 3259, 'lay': 2528, 'fav': 1569, 'rent': 3711, 'twenty': 4656, 'wonderful': 4936, 'altright': 152, 'pizzagate': 3357, 'pedogate': 3276, 'difference': 1202, 'oppose': 3153, 'build': 611, 'quote': 3599, 'universe': 4708, 'stupidity': 4322, 'audacity': 297, 'basically': 378, 'attain': 283, 'sue': 4341, 'officer': 3124, 'partner': 3244, 'minneapolis': 2847, 'cop': 970, 'dozen': 1305, 'parent': 3232, 'round': 3821, 'talent': 4414, 'independent': 2248, 'dominant': 1284, 'chase': 727, 'globalist': 1859, 'empire': 1389, 'crumble': 1049, 'mature': 2746, 'youtube': 4991, 'anthony': 194, 'cheat': 730, 'disappoint': 1226, 'dear': 1115, 'behind': 420, 'elsewhere': 1377, 'complain': 877, 'gain': 1789, 'kidnap': 2453, 'school': 3889, 'carry': 678, 'suicide': 4348, 'reality': 3655, 'miserable': 2860, 'whatever': 4867, 'suspend': 4381, 'harass': 2002, 'maryland': 2731, 'allegedly': 137, 'set': 3952, 'apartment': 208, 'official': 3125, 'ok': 3132, 'weight': 4850, 'owner': 3199, 'scale': 3877, 'nobody': 3047, 'kike': 2454, 'book': 527, 'preference': 3452, 'tolerance': 4542, 'shut': 4026, 'oprah': 3157, 'phil': 3324, 'style': 4323, 'lake': 2497, 'birthday': 473, 'taste': 4426, 'goblin': 1866, 'whine': 4879, 'absolutely': 15, 'adore': 80, 'slut': 4103, 'sing': 4054, 'casually': 686, 'cope': 971, 'learn': 2539, 'growth': 1937, 'hormone': 2128, 'steroid': 4278, 'meat': 2764, 'hip': 2084, 'yr': 4992, 'chemical': 739, 'motherhood': 2931, 'plague': 3359, 'avoid': 318, 'whose': 4893, 'knowledge': 2477, 'declare': 1126, 'cuck': 1053, 'conclusion': 896, 'reverse': 3763, 'minus': 2851, 'necessarily': 3006, 'definition': 1137, 'remember': 3703, 'define': 1135, 'promise': 3521, 'drama': 1312, 'border': 533, 'cry': 1051, 'quarter': 3587, 'team': 4436, 'horse': 2133, 'tax': 4428, 'dollar': 1282, 'change': 718, 'strike': 4308, 'wtf': 4965, 'boy': 551, 'adult': 81, 'smith': 4116, 'submit': 4329, 'multiple': 2953, 'elizabeth': 1374, 'cherokee': 742, 'model': 2882, 'ridicule': 3777, 'thin': 4492, 'edit': 1358, 'toss': 4559, 'bedroom': 408, 'sniff': 4127, 'construction': 937, 'summer': 4353, 'labor': 2487, 'gap': 1795, 'choose': 761, 'physically': 3332, 'painful': 3207, 'stuff': 4318, 'goy': 1891, 'japanese': 2381, 'slaughter': 4085, 'whale': 4865, 'dark': 1101, 'board': 514, 'consequence': 926, 'bugger': 610, 'mum': 2954, 'expression': 1508, 'suggest': 4345, 'unhappy': 4696, 'west': 4859, 'femininity': 1605, 'beautiful': 403, 'oblivious': 3101, 'huh': 2155, 'unfortunately': 4694, 'shortly': 4015, 'save': 3871, 'follower': 1687, 'email': 1379, 'terrorist': 4460, 'israel': 2364, 'saudi': 3869, 'arabia': 230, 'behead': 419, 'commit': 859, 'genocide': 1828, 'crazy': 1016, 'smell': 4113, 'goodness': 1879, 'dream': 1315, 'prepare': 3458, 'financially': 1641, 'case': 681, 'choke': 760, 'camera': 651, 'neck': 3008, 'mud': 2945, 'cia': 775, 'presidenttrump': 3468, 'draintheswamp': 1311, 'fakenews': 1535, 'title': 4535, 'annoy': 187, 'holy': 2106, 'realise': 3653, 'accurate': 40, 'childless': 752, 'mate': 2742, 'catch': 688, 'son': 4162, 'emotional': 1386, 'boob': 526, 'sweat': 4386, 'strategy': 4301, 'slightly': 4094, 'left': 2547, 'weird': 4853, 'le': 2531, 'awkward': 328, 'tit': 4534, 'controversy': 951, 'offend': 3118, 'compare': 870, 'faggot': 1526, 'wanting': 4819, 'sword': 4397, 'huma': 2156, 'abedin': 3, 'page': 3204, 'six': 4065, 'north': 3064, 'korea': 2481, 'bitchy': 478, 'training': 4590, 'youre': 4989, 'lmao': 2614, 'jk': 2405, 'actual': 61, 'accomplishment': 34, 'accomplish': 33, 'general': 1814, 'indeed': 2246, 'sec': 3914, 'company': 869, 'tomorrow': 4547, 'upside': 4723, 'forward': 1716, 'weekend': 4846, 'married': 2724, 'info': 2267, 'available': 315, 'advantage': 83, 'age': 100, 'girlfriend': 1852, 'insult': 2304, 'yikes': 4983, 'convince': 960, 'convention': 954, 'kellyanne': 2446, 'able': 7, 'bore': 535, 'stacy': 4238, 'boring': 536, 'burka': 621, 'islamic': 2360, 'pound': 3435, 'max': 2747, 'bully': 616, 'whoever': 4887, 'usually': 4737, 'taller': 4417, 'fancy': 1546, 'labium': 2486, 'variation': 4751, 'traditionally': 4580, 'legitimately': 2557, 'amazing': 156, 'christine': 768, 'ford': 1700, 'millionaire': 2840, 'fake': 1534, 'testimony': 4464, 'honesty': 2115, 'crawl': 1015, 'anus': 197, 'amazon': 157, 'heard': 2034, 'handle': 1989, 'sale': 3850, 'billion': 463, 'sake': 3848, 'hamstering': 1986, 'smash': 4111, 'smv': 4120, 'refuse': 3680, 'apart': 207, 'humour': 2161, 'practice': 3440, 'grandmother': 1904, 'alleged': 136, 'teacher': 4435, 'less': 2562, 'bf': 451, 'helpful': 2056, 'mass': 2735, 'effect': 1361, 'bit': 475, 'protagonist': 3537, 'sort': 4171, 'parasitic': 3230, 'specie': 4195, 'nyc': 3090, 'beating': 402, 'reminder': 3705, 'ted': 4443, 'kennedy': 2447, 'screen': 3901, 'passenger': 3248, 'hmm': 2094, 'quite': 3597, 'certain': 709, 'couple': 997, 'barbie': 366, 'cute': 1079, 'gal': 1790, 'weigh': 4849, 'several': 3957, 'daily': 1087, 'stomach': 4289, 'wake': 4807, 'brush': 600, 'hair': 1973, 'establishment': 1445, 'lace': 2489, 'ha': 1960, 'physical': 3331, 'settle': 3954, 'rat': 3634, 'shallow': 3975, 'donald': 1286, 'house': 2143, 'crook': 1041, 'terrible': 4456, 'candidate': 659, 'facebook': 1519, 'toe': 4539, 'shape': 3981, 'thick': 4489, 'sunday': 4355, 'rank': 3625, 'keith': 2443, 'ellison': 1375, 'ex': 1471, 'msm': 2942, 'camp': 652, 'nationalist': 2991, 'nationalism': 2990, 'flag': 1656, 'doll': 1281, 'gentleman': 1829, 'global': 1858, 'realization': 3656, 'nigga': 3036, 'relate': 3691, 'investment': 2340, 'fade': 1524, 'anymore': 200, 'prosecutor': 3533, 'etc': 1448, 'worker': 4941, 'rotherham': 3818, 'linda': 2597, 'seek': 3925, 'useful': 4732, 'raped': 3629, 'denounce': 1162, 'chad': 712, 'lite': 2607, 'legit': 2555, 'mgtows': 2814, 'speed': 4200, 'dial': 1195, 'muzzie': 2971, 'turd': 4647, 'advice': 85, 'begin': 413, 'sexy': 3968, 'glad': 1855, 'sun': 4354, 'warn': 4822, 'bake': 347, 'beach': 394, 'shade': 3971, 'strength': 4304, 'investigate': 2338, 'medium': 2772, 'shooting': 4011, 'german': 1834, 'result': 3755, 'haha': 1964, 'betabux': 446, 'likely': 2593, 'spread': 4228, 'spin': 4209, 'plate': 3367, 'wikileaks': 4900, 'out': 3175, 'hill': 2078, 'conduct': 903, 'exactly': 1473, 'feed': 1587, 'pot': 3430, 'esp': 1440, 'vulnerable': 4801, 'sadly': 3843, 'garbage': 1796, 'continue': 946, 'pharma': 3321, 'abortion': 12, 'pill': 3343, 'compliment': 884, 'despise': 1184, 'defend': 1133, 'vile': 4772, 'absorb': 16, 'ideology': 2185, 'miami': 2815, 'laid': 2496, 'answer': 191, 'simple': 4046, 'witch': 4920, 'commonly': 863, 'preserve': 3463, 'function': 1777, 'monogamous': 2910, 'georgia': 1833, 'respond': 3748, 'vehicle': 4755, 'veteran': 4761, 'variety': 4752, 'besides': 442, 'hello': 2053, 'shitty': 4004, 'bump': 618, 'knee': 2469, 'mine': 2845, 'comfortable': 851, 'kinda': 2460, 'deep': 1129, 'bone': 522, 'clown': 813, 'scout': 3898, 'uncomfortable': 4684, 'tire': 4532, 'chivalry': 757, 'autonomy': 314, 'mongrel': 2905, 'afford': 93, 'scum': 3904, 'defense': 1134, 'non': 3052, 'fraud': 1734, 'erection': 1435, 'mock': 2879, 'tear': 4438, 'politics': 3406, 'member': 2782, 'curious': 1067, 'neither': 3016, 'successful': 4335, 'base': 373, 'ditto': 1261, 'abuse': 19, 'art': 245, 'simply': 4047, 'proof': 3524, 'stem': 4273, 'gon': 1875, 'triple': 4625, 'crisis': 1036, 'tremendous': 4617, 'effort': 1363, 'beware': 449, 'satisfy': 3866, 'thirst': 4497, 'hijack': 2074, 'safe': 3844, 'taxpayer': 4429, 'normal': 3060, 'struggle': 4315, 'oneitis': 3139, 'endless': 1400, 'bread': 567, 'rock': 3802, 'junk': 2428, 'olive': 3136, 'garden': 1797, 'eric': 1436, 'schneiderman': 3888, 'slave': 4086, 'accuser': 43, 'control': 950, 'spending': 4203, 'transport': 4603, 'climate': 801, 'main': 2694, 'driver': 1320, 'donate': 1287, 'tease': 4439, 'sad': 3841, 'validate': 4745, 'humiliate': 2159, 'justin': 2431, 'canada': 655, 'elect': 1369, 'totally': 4561, 'similar': 4043, 'stay': 4267, 'blackpilled': 486, 'wind': 4908, 'devil': 1193, 'deliver': 1146, 'sell': 3931, 'soul': 4174, 'method': 2809, 'approach': 222, 'typical': 4666, 'fashion': 1557, 'martyr': 2726, 'plea': 3375, 'ladies': 2494, 'alot': 144, 'thou': 4502, 'shalt': 3976, 'holocaust': 2104, 'seduction': 3923, 'scream': 3900, 'pua': 3553, 'grind': 1925, 'yesterday': 4981, 'chat': 728, 'netflix': 3022, 'sander': 3855, 'refute': 3681, 'easily': 1351, 'image': 2204, 'marine': 2720, 'ancestor': 173, 'bird': 471, 'figure': 1630, 'escape': 1439, 'gross': 1931, 'nope': 3057, 'text': 4467, 'bot': 540, 'launch': 2520, 'counter': 994, 'fail': 1527, 'pimp': 3347, 'britain': 587, 'groom': 1928, 'scandal': 3879, 'serve': 3948, 'duty': 1338, 'deadly': 1113, 'europe': 1453, 'due': 1330, 'migration': 2827, 'produce': 3506, 'chris': 764, 'information': 2269, 'liberation': 2575, 'logic': 2626, 'rapist': 3631, 'republican': 3729, 'russia': 3835, 'missile': 2868, 'tech': 4440, 'putin': 3582, 'via': 4762, 'hilary': 2077, 'traitor': 4592, 'prostitute': 3535, 'da': 1083, 'duck': 1328, 'outta': 3184, 'suppose': 4363, 'jeong': 2390, 'league': 2535, 'baseball': 374, 'minor': 2849, 'later': 2513, 'beside': 441, 'interact': 2316, 'beyond': 450, 'comfort': 850, 'zone': 4999, 'marxist': 2729, 'overthrow': 3195, 'government': 1887, 'enforcement': 1405, 'health': 2030, 'grave': 1913, 'danger': 1096, 'rabid': 3603, 'socialist': 4135, 'responsible': 3751, 'equate': 1430, 'height': 2050, 'dynamic': 1343, 'quick': 3592, 'tolerate': 4544, 'ability': 6, 'nuclear': 3078, 'weapon': 4838, 'block': 500, 'psycho': 3549, 'luckily': 2664, 'step': 4274, 'notification': 3070, 'cheer': 735, 'dont': 1291, 'degenerate': 1139, 'trash': 4605, 'virtue': 4783, 'chart': 726, 'fbi': 1576, 'purity': 3572, 'gas': 1798, 'cucking': 1055, 'ungrateful': 4695, 'accordingly': 36, 'boil': 518, 'central': 704, 'france': 1727, 'manipulative': 2712, 'peterson': 3319, 'host': 2136, 'guard': 1940, 'fucker': 1766, 'iron': 2353, 'skinny': 4074, 'jean': 2387, 'abomination': 9, 'rarely': 3633, 'disagree': 1224, 'hijab': 2073, 'protest': 3541, 'islamist': 2361, 'regime': 3684, 'overnight': 3190, 'tampon': 4418, 'embarrassment': 1382, 'customer': 1077, 'bed': 407, 'bath': 383, 'store': 4292, 'site': 4062, 'morality': 2920, 'neo': 3017, 'risk': 3788, 'isi': 2358, 'lightly': 2591, 'draw': 1313, 'football': 1695, 'addition': 69, 'crack': 1010, 'correctly': 980, 'perceive': 3290, 'loss': 2649, 'category': 689, 'mohammad': 2890, 'prepubescent': 3459, 'attitude': 289, 'extremely': 1515, 'submissive': 4328, 'nose': 3066, 'trp': 4632, 'discuss': 1234, 'spill': 4208, 'wine': 4910, 'clothes': 811, 'exterminate': 1511, 'app': 212, 'bull': 613, 'cucks': 1057, 'soon': 4164, 'racist': 3609, 'thug': 4516, 'ho': 2096, 'standard': 4253, 'culturally': 1061, 'interaction': 2317, 'emotionally': 1387, 'attach': 280, 'nba': 3002, 'player': 3371, 'directly': 1218, 'elite': 1372, 'athlete': 277, 'nfl': 3032, 'fairly': 1532, 'pump': 3562, 'satanic': 3864, 'golden': 1873, 'progress': 3514, 'imaginary': 2205, 'religion': 3698, 'hardly': 2007, 'testosterone': 4465, 'cuckold': 1056, 'tyrone': 4668, 'tank': 4420, 'normally': 3061, 'lottery': 2651, 'ticket': 4520, 'christmas': 769, 'prize': 3497, 'initiative': 2274, 'feminismiscancer': 1607, 'mission': 2869, 'traditional': 4579, 'oath': 3091, 'willing': 4904, 'bum': 617, 'lord': 2645, 'authority': 309, 'harem': 2008, 'belong': 430, 'normie': 3062, 'daddy': 1086, 'outside': 3183, 'building': 612, 'piss': 3351, 'romantically': 3811, 'bathroom': 384, 'stall': 4249, 'yo': 4984, 'poc': 3387, 'enrich': 1412, 'broad': 591, 'brick': 579, 'wee': 4843, 'la': 2484, 'jr': 2419, 'center': 703, 'dmtbka': 1270, 'belief': 423, 'consider': 928, 'dipshit': 1215, 'arm': 237, 'turkey': 4648, 'squeeze': 4232, 'remain': 3701, 'unto': 4715, 'repent': 3715, 'muh': 2949, 'kamala': 2432, 'harris': 2012, 'compete': 874, 'hearing': 2035, 'move': 2936, 'completely': 880, 'whilst': 4876, 'naturally': 2994, 'empower': 1392, 'leader': 2533, 'freespeech': 1739, 'em': 1378, 'ur': 4726, 'opinion': 3150, 'crowd': 1046, 'knight': 2473, 'stink': 4286, 'bag': 343, 'father': 1564, 'pray': 3442, 'finish': 1645, 'attract': 291, 'form': 1708, 'provide': 3546, 'extra': 1513, 'visible': 4785, 'dumbass': 1334, 'pan': 3218, 'inherently': 2271, 'genetics': 1823, 'laura': 2522, 'loomer': 2641, 'parasite': 3229, 'release': 3696, 'scumbag': 3905, 'rope': 3815, 'fuel': 1772, 'actress': 60, 'hollywood': 2103, 'gigachad': 1847, 'moron': 2924, 'radical': 3611, 'exists': 1489, 'essentially': 1443, 'mindset': 2844, 'item': 2369, 'con': 888, 'meeting': 2774, 'cringe': 1033, 'michelle': 2818, 'illegals': 2200, 'cant': 661, 'ghost': 1842, 'joseph': 2415, 'appear': 216, 'matt': 2744, 'despicable': 1183, 'uncle': 4683, 'tom': 4545, 'kanye': 2433, 'occasionally': 3110, 'anywhere': 206, 'default': 1131, 'mercury': 2793, 'mainly': 2695, 'jaw': 2384, 'curry': 1071, 'elitist': 1373, 'mexico': 2812, 'imprison': 2227, 'decent': 1122, 'blackpill': 485, 'kek': 2444, 'entitlement': 1422, 'milf': 2833, 'identify': 2182, 'gf': 1839, 'teenage': 4445, 'northern': 3065, 'england': 1408, 'duh': 1331, 'slap': 4084, 'knife': 2472, 'entitle': 1420, 'flirt': 1667, 'sack': 3839, 'caught': 692, 'total': 4560, 'moment': 2900, 'gulag': 1948, 'sympathy': 4399, 'pity': 3355, 'survival': 4376, 'currency': 1068, 'freedom': 1738, 'moore': 2917, 'intellectual': 2309, 'lard': 2502, 'obesity': 3095, 'rare': 3632, 'condition': 899, 'exclusive': 1481, 'label': 2485, 'often': 3128, 'resort': 3743, 'solve': 4152, 'hobby': 2097, 'communicate': 864, 'looksmatch': 2638, 'atleast': 278, 'tier': 4522, 'atheist': 276, 'sincerely': 4053, 'persuade': 3313, 'kebab': 2440, 'voting': 4797, 'twin': 4658, 'record': 3668, 'goat': 1865, 'abort': 10, 'eyebrow': 1517, 'chest': 744, 'worthy': 4954, 'lil': 2594, 'adventure': 84, 'doormat': 1293, 'hug': 2152, 'bbc': 391, 'journalist': 2417, 'affect': 90, 'finance': 1639, 'leg': 2550, 'workplace': 4944, 'amaze': 155, 'dignity': 1210, 'lawyer': 2527, 'dislike': 1243, 'mild': 2830, 'slavery': 4087, 'secret': 3916, 'area': 232, 'dumpster': 1336, 'gowdy': 1890, 'conceal': 889, 'role': 3806, 'dossier': 1296, 'soyboys': 4183, 'section': 3919, 'omg': 3137, 'insert': 2288, 'wig': 4899, 'fool': 1691, 'steve': 4279, 'hopefully': 2126, 'prince': 3485, 'western': 4860, 'sensible': 3939, 'meme': 2783, 'emotion': 1385, 'sham': 3977, 'boys': 555, 'tv': 4652, 'ad': 63, 'feature': 1581, 'secretly': 3918, 'sexist': 3963, 'offensive': 3121, 'honestly': 2114, 'malicious': 2703, 'road': 3792, 'toward': 4569, 'silent': 4040, 'nonsense': 3054, 'finally': 1638, 'whoop': 4890, 'butt': 633, 'spy': 4229, 'prefer': 3450, 'tight': 4524, 'hmmm': 2095, 'florida': 1674, 'tattoo': 4427, 'property': 3529, 'testify': 4463, 'vapid': 4750, 'data': 1103, 'skew': 4071, 'treatment': 4615, 'frankly': 1732, 'expect': 1491, 'awesome': 324, 'disregard': 1251, 'rofl': 3804, 'pun': 3563, 'intend': 2312, 'drunken': 1326, 'penis': 3286, 'shock': 4006, 'thrust': 4515, 'possibility': 3424, 'closer': 809, 'bloody': 505, 'allah': 132, 'teenager': 4446, 'strange': 4297, 'qanon': 3583, 'folk': 1684, 'conspiracy': 929, 'grandmas': 1903, 'meanwhile': 2762, 'misandrist': 2855, 'positively': 3421, 'superior': 4358, 'africa': 96, 'uncommon': 4685, 'distract': 1256, 'concentration': 890, 'caitlyn': 644, 'jenner': 2389, 'abused': 20, 'bruce': 599, 'react': 3646, 'blow': 507, 'employee': 1391, 'reaction': 3647, 'thread': 4506, 'introduce': 2331, 'jewish': 2397, 'intolerant': 2329, 'paul': 3264, 'watson': 4831, 'improve': 2228, 'quality': 3585, 'percentage': 3292, 'gift': 1845, 'amount': 166, 'code': 824, 'harmful': 2010, 'publicly': 3557, 'bald': 349, 'disgrace': 1237, 'parenthood': 3233, 'twisted': 4660, 'fertility': 1614, 'sickness': 4030, 'upvoting': 4725, 'rush': 3834, 'restroom': 3754, 'respectful': 3747, 'absolute': 14, 'twitch': 4661, 'swipe': 4395, 'content': 943, 'belt': 432, 'simps': 4048, 'replace': 3717, 'article': 246, 'hammer': 1984, 'speech': 4199, 'justice': 2429, 'whenever': 4872, 'phrase': 3330, 'panic': 3221, 'enter': 1416, 'existence': 1488, 'serial': 3944, 'half': 1979, 'skull': 4078, 'mog': 2888, 'blood': 504, 'sacrifice': 3840, 'plug': 3382, 'cognitive': 826, 'dissonance': 1254, 'williams': 4903, 'virginia': 4780, 'aide': 114, 'china': 755, 'shield': 3992, 'artificial': 247, 'scientist': 3895, 'supremacist': 4366, 'meant': 2761, 'size': 4066, 'mormon': 2922, 'alcohol': 122, 'skank': 4069, 'sidebar': 4032, 'hunt': 2166, 'constitution': 935, 'pursue': 3577, 'batshit': 386, 'insane': 2284, 'tail': 4411, 'oil': 3131, 'massage': 2736, 'wink': 4912, 'slowly': 4101, 'lift': 2589, 'beginning': 414, 'push': 3578, 'hook': 2121, 'impossible': 2223, 'uh': 4672, 'upon': 4719, 'ear': 1346, 'wut': 4966, 'nail': 2977, 'lingerie': 2599, 'entire': 1418, 'libtard': 2581, 'potential': 3432, 'manlet': 2714, 'nicely': 3034, 'ruin': 3829, 'random': 3622, 'wood': 4938, 'update': 4718, 'intel': 2308, 'process': 3505, 'rant': 3626, 'neutral': 3024, 'smh': 4114, 'spit': 4216, 'snake': 4122, 'fund': 1778, 'traffic': 4582, 'lawsuit': 2526, 'aid': 113, 'format': 1710, 'immigrant': 2212, 'misconduct': 2859, 'accusation': 41, 'ruth': 3837, 'moslem': 2925, 'wnba': 4927, 'misery': 2862, 'cucked': 1054, 'soy': 4181, 'minnesota': 2848, 'district': 1258, 'succeed': 4333, 'congress': 918, 'purpose': 3574, 'indirectly': 2255, 'zero': 4995, 'approval': 225, 'litter': 2610, 'douchebag': 1300, 'rip': 3786, 'esteem': 1446, 'hatred': 2023, 'thots': 4501, 'box': 550, 'patriarchal': 3258, 'uber': 4669, 'simultaneously': 4049, 'dig': 1207, 'colored': 840, 'present': 3462, 'harvard': 2015, 'near': 3004, 'tweet': 4655, 'fear': 1579, 'explanation': 1501, 'usual': 4736, 'correct': 979, 'plot': 3380, 'lisa': 2604, 'pathological': 3256, 'po': 3386, 'hateful': 2020, 'drown': 1323, 'excellent': 1475, 'friendly': 1748, 'intimate': 2327, 'fap': 1550, 'sheesh': 3988, 'shoulder': 4018, 'root': 3814, 'crooked': 1042, 'goal': 1864, 'ironic': 2354, 'acne': 48, 'sm': 4107, 'perspective': 3312, 'design': 1178, 'firm': 1647, 'delusion': 1148, 'luck': 2663, 'sand': 3853, 'hapa': 1995, 'ethnic': 1450, 'racism': 3608, 'military': 2835, 'rating': 3637, 'system': 4404, 'amy': 169, 'schumer': 3891, 'santa': 3858, 'bow': 548, 'jesus': 2394, 'christ': 765, 'pres': 3460, 'bata': 382, 'castrate': 684, 'water': 4830, 'reach': 3645, 'dy': 1339, 'convinced': 961, 'scientifically': 3894, 'transgender': 4600, 'biological': 468, 'scientific': 3893, 'yep': 4978, 'orbiter': 3162, 'horrible': 2130, 'stance': 4251, 'apologize': 210, 'horde': 2127, 'niece': 3035, 'historic': 2088, 'century': 706, 'millennials': 2838, 'feminazi': 1602, 'internet': 2323, 'trip': 4624, 'liberty': 2577, 'safety': 3846, 'ben': 433, 'worried': 4948, 'whats': 4868, 'energy': 1404, 'wing': 4911, 'shun': 4025, 'disown': 1246, 'collective': 835, 'haunt': 2025, 'immediate': 2210, 'scene': 3885, 'gold': 1871, 'daniel': 1098, 'oppress': 3155, 'conclude': 895, 'cheating': 731, 'irony': 2356, 'blue': 510, 'pilled': 3344, 'rohingya': 3805, 'mr': 2940, 'te': 4432, 'biden': 456, 'upset': 4722, 'cheese': 737, 'pedofiles': 3275, 'naughty': 2996, 'idiotic': 2188, 'perhaps': 3297, 'provoke': 3548, 'wander': 4816, 'attempt': 285, 'march': 2719, 'homeless': 2109, 'shelter': 3990, 'petty': 3320, 'angry': 179, 'intimidate': 2328, 'happily': 1999, 'incredible': 2244, 'doctor': 1274, 'muhammad': 2950, 'count': 993, 'bury': 626, 'ant': 192, 'pile': 3342, 'swear': 4385, 'violence': 4776, 'pickup': 3336, 'flower': 1676, 'late': 2511, 'tf': 4471, 'hamilton': 1983, 'scary': 3883, 'loon': 2642, 'propaganda': 3526, 'philosophy': 3325, 'brexit': 578, 'eu': 1452, 'theresa': 4486, 'harsh': 2014, 'flow': 1675, 'giga': 1846, 'frame': 1726, 'active': 55, 'sucking': 4338, 'beg': 412, 'dr': 1306, 'healthy': 2032, 'relevant': 3697, 'office': 3123, 'amen': 159, 'financial': 1640, 'peak': 3271, 'fitness': 1652, 'stereotype': 4276, 'violent': 4777, 'flash': 1659, 'privacy': 3492, 'vag': 4741, 'somehow': 4155, 'sluttiness': 4104, 'thinking': 4495, 'project': 3516, 'genuinely': 1831, 'ooh': 3144, 'ought': 3174, 'row': 3822, 'invite': 2342, 'goodbye': 1878, 'till': 4526, 'casual': 685, 'encounter': 1397, 'regard': 3682, 'trudeau': 4634, 'syrian': 4403, 'bc': 392, 'geez': 1809, 'belly': 429, 'tan': 4419, 'somewhat': 4160, 'difficult': 1205, 'commitment': 860, 'witness': 4924, 'autist': 311, 'tolerant': 4543, 'progressive': 3515, 'environment': 1423, 'affection': 91, 'wouldnt': 4956, 'rachel': 3605, 'maddox': 2681, 'anger': 177, 'describe': 1174, 'ofc': 3117, 'context': 945, 'jar': 2382, 'specially': 4194, 'stress': 4305, 'mama': 2705, 'refer': 3677, 'quran': 3600, 'reader': 3649, 'unique': 4703, 'fridge': 1746, 'apple': 219, 'string': 4309, 'pat': 3253, 'discover': 1232, 'basic': 377, 'decency': 1121, 'fox': 1722, 'director': 1219, 'comey': 849, 'chair': 714, 'hotter': 2140, 'tune': 4644, 'spiritcooking': 4214, 'benghazi': 438, 'anxiety': 198, 'yer': 4979, 'roll': 3807, 'aww': 329, 'fever': 1619, 'bias': 453, 'alert': 124, 'writer': 4963, 'pen': 3283, 'occasion': 3108, 'incarnate': 2233, 'pink': 3349, 'womb': 4932, 'maggot': 2687, 'schedule': 3886, 'decision': 1125, 'scott': 3897, 'relation': 3692, 'honest': 2113, 'mid': 2820, 'trannies': 4594, 'cripple': 1035, 'tactic': 4409, 'ups': 4721, 'table': 4407, 'theres': 4485, 'doesnt': 1278, 'although': 151, 'texas': 4466, 'migrant': 2826, 'indict': 2253, 'website': 4840, 'recently': 3664, 'reveal': 3761, 'needy': 3010, 'yummy': 4993, 'trophy': 4629, 'advocate': 87, 'regularly': 3688, 'noise': 3050, 'clean': 794, 'steel': 4270, 'condone': 902, 'represent': 3724, 'playing': 3374, 'dominate': 1285, 'direct': 1216, 'competition': 876, 'beater': 401, 'sock': 4141, 'masculinity': 2733, 'capitalism': 666, 'gray': 1915, 'narrative': 2985, 'pleasure': 3378, 'grovelling': 1934, 'price': 3478, 'tab': 4406, 'bond': 521, 'confuse': 914, 'justify': 2430, 'epic': 1425, 'friendzone': 1751, 'ego': 1365, 'sob': 4132, 'downvoted': 1302, 'interview': 2326, 'podesta': 3391, 'problematic': 3503, 'obamacare': 3093, 'redhead': 3672, 'allegation': 134, 'confidential': 908, 'instagram': 2296, 'ass': 260, 'antifa': 196, 'grandma': 1902, 'anti': 195, 'heaven': 2042, 'demonic': 1157, 'enjoy': 1410, 'lunatic': 2667, 'entertain': 1417, 'rude': 3828, 'boner': 523, 'solo': 4150, 'pig': 3341, 'wh': 4864, 'chew': 745, 'heavily': 2043, 'hop': 2124, 'blunt': 512, 'loud': 2652, 'logical': 2627, 'therefore': 4484, 'generally': 1816, 'id': 2178, 'vomit': 4793, 'guest': 1942, 'fellow': 1595, 'jail': 2376, 'kathy': 2437, 'griffin': 1923, 'deplorable': 1167, 'bigot': 458, 'foot': 1693, 'import': 2219, 'foreign': 1701, 'sum': 4351, 'language': 2500, 'five': 1653, 'oy': 3200, 'megyn': 2777, 'phoney': 3327, 'outrage': 3181, 'whip': 4882, 'sweden': 4389, 'trolling': 4627, 'jordan': 2414, 'meh': 2778, 'homosexuality': 2112, 'puas': 3554, 'recommend': 3667, 'request': 3733, 'merry': 2799, 'til': 4525, 'abhorrent': 4, 'liability': 2569, 'lazy': 2529, 'politically': 3404, 'religious': 3699, 'east': 1352, 'bite': 479, 'gag': 1787, 'background': 336, 'tick': 4519, 'chop': 762, 'infest': 2263, 'thot': 4500, 'gigantic': 1848, 'inceltears': 2236, 'visit': 4787, 'noodle': 3055, 'heck': 2045, 'solution': 4151, 'homosexual': 2111, 'degeneracy': 1138, 'ignorance': 2193, 'hoe': 2099, 'housewife': 2145, 'cuz': 1081, 'conditioning': 900, 'product': 3507, 'negative': 3012, 'hahahahaha': 1969, 'alice': 127, 'arse': 244, 'halo': 1981, 'circle': 777, 'wwii': 4968, 'french': 1740, 'willingly': 4905, 'lip': 2602, 'tongue': 4550, 'action': 54, 'grab': 1893, 'outcome': 3176, 'engineer': 1407, 'psychotic': 3552, 'dyke': 1342, 'muslime': 2963, 'acceptable': 27, 'plantation': 3365, 'manipulate': 2711, 'cold': 830, 'sight': 4035, 'award': 321, 'moose': 2918, 'haley': 1978, 'poison': 3395, 'differently': 1204, 'desire': 1179, 'whining': 4880, 'repulsive': 3731, 'color': 839, 'dye': 1340, 'cancer': 658, 'injustice': 2279, 'execute': 1484, 'air': 117, 'sarcastic': 3861, 'govt': 1889, 'sean': 3910, 'train': 4589, 'funeral': 1779, 'ole': 3135, 'closet': 810, 'department': 1164, 'ultimate': 4674, 'unironically': 4704, 'season': 3912, 'occupy': 3111, 'toilet': 4541, 'flush': 1678, 'lad': 2491, 'gossip': 1885, 'wreck': 4960, 'occur': 3112, 'janitor': 2379, 'entirely': 1419, 'bother': 541, 'smile': 4115, 'pal': 3213, 'king': 2462, 'custom': 1076, 'handler': 1990, 'important': 2220, 'instance': 2298, 'adolfhitler': 77, 'crave': 1014, 'addict': 67, 'cam': 650, 'contemplate': 942, 'mail': 2692, 'birth': 472, 'nearly': 3005, 'topic': 4555, 'english': 1409, 'robot': 3801, 'imply': 2218, 'fapping': 1551, 'wet': 4862, 'hungry': 2165, 'african': 97, 'brutally': 602, 'wicked': 4894, 'pocahontas': 3388, 'vast': 4754, 'deprave': 1170, 'gynocentric': 1957, 'promiscuous': 3520, 'mystery': 2972, 'supporter': 4362, 'ballot': 353, 'unable': 4679, 'peanut': 3272, 'thus': 4517, 'rejection': 3690, 'narcissist': 2983, 'debt': 1118, 'symbol': 4398, 'radio': 3612, 'harassment': 2003, 'concept': 891, 'creed': 1027, 'brazilian': 566, 'reward': 3767, 'swedish': 4390, 'fell': 1593, 'replacement': 3718, 'degrade': 1140, 'humanity': 2158, 'statistically': 4263, 'rep': 3712, 'outlaw': 3179, 'fgm': 1622, 'playfully': 3372, 'clingy': 803, 'presidency': 3464, 'drag': 1308, 'balance': 348, 'molest': 2894, 'solely': 4148, 'bio': 467, 'lifetime': 2588, 'establish': 1444, 'snowflake': 4130, 'hotel': 2139, 'ali': 126, 'diversity': 1264, 'forbid': 1696, 'sharia': 3984, 'specifically': 4197, 'slob': 4097, 'shopping': 4013, 'ii': 2196, 'path': 3254, 'achieve': 44, 'awful': 325, 'dread': 1314, 'depends': 1166, 'chemistry': 740, 'factor': 1522, 'propose': 3531, 'window': 4909, 'inferior': 2262, 'believer': 426, 'combo': 845, 'bin': 466, 'territory': 4458, 'unborn': 4682, 'dopey': 1295, 'reasonable': 3661, 'grope': 1930, 'coat': 821, 'ft': 1761, 'income': 2241, 'pack': 3202, 'event': 1457, 'puke': 3560, 'jungle': 2427, 'lying': 2672, 'despite': 1185, 'pocket': 3389, 'theme': 4479, 'cooperate': 969, 'whatsoever': 4869, 'faster': 1559, 'muscle': 2959, 'concern': 892, 'womens': 4933, 'seat': 3913, 'paper': 3224, 'jam': 2377, 'bipolar': 470, 'cigar': 776, 'twat': 4653, 'separate': 3942, 'gullible': 1949, 'globalists': 1860, 'hospital': 2135, 'conflict': 912, 'across': 52, 'hostile': 2137, 'dissident': 1253, 'boot': 531, 'clothing': 812, 'specific': 4196, 'divorced': 1267, 'shirt': 3997, 'coincidence': 828, 'conscience': 922, 'subhuman': 4325, 'machine': 2676, 'ditch': 1260, 'everyday': 1462, 'travel': 4609, 'abroad': 13, 'hero': 2060, 'assist': 269, 'goose': 1882, 'educate': 1359, 'inbred': 2231, 'crew': 1030, 'double': 1298, 'dull': 1332, 'haul': 2024, 'capitalist': 667, 'menace': 2787, 'onto': 3143, 'twatter': 4654, 'gun': 1950, 'highlight': 2071, 'budget': 608, 'amendment': 160, 'disabled': 1223, 'viable': 4763, 'bout': 547, 'imma': 2208, 'demographic': 1155, 'shiver': 4005, 'charles': 723, 'crow': 1045, 'server': 3949, 'perv': 3314, 'yell': 4977, 'monroe': 2911, 'nawalt': 2998, 'maintain': 2697, 'twice': 4657, 'israeli': 2365, 'curve': 1074, 'shift': 3993, 'biology': 469, 'lock': 2623, 'qualify': 3584, 'hack': 1962, 'misandry': 2856, 'promote': 3522, 'nagging': 2975, 'critical': 1037, 'cap': 662, 'depend': 1165, 'reporter': 3721, 'mollie': 2896, 'molly': 2897, 'exit': 1490, 'bus': 627, 'bridge': 581, 'senator': 3935, 'dc': 1110, 'protester': 3542, 'turnip': 4650, 'green': 1920, 'anytime': 203, 'sweetheart': 4392, 'mohammed': 2891, 'drink': 1317, 'tool': 4553, 'core': 975, 'bdsm': 393, 'dammit': 1090, 'river': 3791, 'remorse': 3707, 'cps': 1009, 'therapist': 4481, 'foids': 1683, 'bluepilled': 511, 'organ': 3164, 'pamela': 3217, 'italian': 2367, 'ritual': 3789, 'fking': 1655, 'assad': 261, 'assassinate': 262, 'jackass': 2374, 'armed': 238, 'divide': 1265, 'awww': 330, 'jihadi': 2401, 'abuser': 21, 'primary': 3482, 'lib': 2571, 'coffee': 825, 'hardcore': 2005, 'hamburger': 1982, 'eastern': 1353, 'suddenly': 4340, 'require': 3734, 'unhinged': 4698, 'movement': 2937, 'magically': 2690, 'honor': 2118, 'killing': 2457, 'mutilate': 2968, 'mountain': 2934, 'lion': 2601, 'gear': 1806, 'presume': 3471, 'pastor': 3251, 'stain': 4242, 'unaware': 4681, 'speaking': 4192, 'fee': 1586, 'donation': 1288, 'there': 4483, 'pre': 3444, 'tread': 4611, 'penny': 3287, 'trans': 4597, 'legal': 2552, 'implication': 2217, 'thwart': 4518, 'cave': 694, 'macron': 2678, 'asylum': 274, 'murderer': 2956, 'spell': 4201, 'exclusively': 1482, 'loathe': 2619, 'lem': 2559, 'shop': 4012, 'inform': 2268, 'strategic': 4300, 'loaf': 2617, 'minimum': 2846, 'wage': 4803, 'strip': 4310, 'executive': 1485, 'economy': 1356, 'criticize': 1039, 'boomer': 529, 'blind': 498, 'forum': 1715, 'redpill': 3674, 'cell': 700, 'rub': 3827, 'per': 3289, 'keeper': 2442, 'beast': 399, 'tiny': 4530, 'contribute': 949, 'rot': 3817, 'cough': 988, 'mogs': 2889, 'oblivion': 3100, 'asks': 257, 'alright': 147, 'simp': 4044, 'medal': 2766, 'recent': 3663, 'lick': 2584, 'plane': 3362, 'lucky': 2665, 'bright': 583, 'reproductive': 3727, 'rate': 3635, 'deport': 1168, 'reminds': 3706, 'subreddit': 4330, 'repeat': 3713, 'gate': 1801, 'community': 868, 'better': 448, 'belongs': 431, 'campaign': 653, 'golf': 1874, 'solid': 4149, 'tonight': 4551, 'terrify': 4457, 'clue': 815, 'reciprocate': 3665, 'adorable': 79, 'icon': 2177, 'heavy': 2044, 'depression': 1172, 'cup': 1065, 'enrichment': 1413, 'carousel': 676, 'wheel': 4871, 'gesture': 1836, 'foul': 1718, 'beard': 398, 'tony': 4552, 'montana': 2913, 'hath': 2022, 'fury': 1781, 'disorder': 1245, 'dunno': 1337, 'raf': 3613, 'army': 239, 'guitar': 1947, 'coz': 1008, 'nun': 3083, 'committed': 861, 'mailbox': 2693, 'libido': 2578, 'field': 1624, 'obsess': 3105, 'dat': 1102, 'twist': 4659, 'ready': 3651, 'sjws': 4068, 'polyamory': 3408, 'pander': 3219, 'genetic': 1821, 'subhumans': 4326, 'geller': 1810, 'sodomite': 4142, 'forgive': 1706, 'swede': 4388, 'immature': 2209, 'london': 2631, 'york': 4986, 'highly': 2072, 'gook': 1881, 'fatass': 1562, 'hapas': 1996, 'wmaf': 4926, 'participate': 3240, 'unhealthy': 4697, 'awalt': 320, 'trick': 4622, 'roseanne': 3816, 'valerie': 4743, 'expose': 1505, 'criticism': 1038, 'accountable': 39, 'pour': 3436, 'pc': 3268, 'whoopie': 4891, 'stag': 4240, 'ride': 3776, 'carefully': 674, 'approve': 226, 'doj': 1280, 'ann': 183, 'coulter': 991, 'interpret': 2324, 'glorify': 1861, 'lass': 2509, 'somali': 4153, 'increase': 2243, 'shag': 3972, 'hire': 2086, 'mentality': 2790, 'pain': 3206, 'audience': 298, 'search': 3911, 'racial': 3606, 'fetish': 1616, 'fetishize': 1617, 'advance': 82, 'sarsour': 3862, 'certainly': 710, 'genital': 1824, 'mutilation': 2969, 'shariah': 3985, 'individual': 2256, 'medication': 2768, 'mulatto': 2951, 'kenyan': 2448, 'domestic': 1283, 'trouble': 4630, 'browse': 598, 'trafficking': 4584, 'bitchute': 477, 'various': 4753, 'odds': 3116, 'susan': 4379, 'inmate': 2280, 'accidentally': 32, 'climb': 802, 'tower': 4571, 'asia': 253, 'gasp': 1800, 'interference': 2321, 'taylor': 4430, 'jeremy': 2391, 'britfam': 588, 'babe': 331, 'laser': 2507, 'condom': 901, 'cent': 702, 'empowered': 1393, 'sugar': 4344, 'libertarian': 2576, 'activist': 57, 'chocolate': 758, 'fish': 1649, 'confront': 913, 'utter': 4738, 'youth': 4990, 'indication': 2252, 'offspring': 3127, 'slutty': 4106, 'attracted': 292, 'makeup': 2701, 'properly': 3528, 'overthinking': 3194, 'mask': 2734, 'pasture': 3252, 'iran': 2347, 'plain': 3360, 'peace': 3269, 'pedophilia': 3278, 'appease': 218, 'texted': 4469, 'romantic': 3810, 'trend': 4618, 'journal': 2416, 'snap': 4123, 'instinct': 2302, 'direction': 1217, 'killer': 2456, 'jason': 2383, 'expensive': 1496, 'circumstance': 780, 'alive': 131, 'childish': 751, 'switch': 4396, 'normies': 3063, 'fuckable': 1764, 'tldr': 4537, 'boost': 530, 'syndrome': 4401, 'dare': 1100, 'pronoun': 3523, 'colleague': 833, 'nowhere': 3075, 'cum': 1063, 'privileged': 3496, 'ten': 4451, 'pedestal': 3273, 'foxnews': 1723, 'hes': 2062, 'plant': 3364, 'cnn': 817, 'fame': 1541, 'spank': 4186, 'punk': 3567, 'fan': 1545, 'forbidden': 1697, 'damned': 1092, 'creep': 1028, 'lgbt': 2568, 'bible': 454, 'plastic': 3366, 'surgery': 4371, 'science': 3892, 'snapchat': 4124, 'corporation': 978, 'scarcity': 3881, 'everytime': 1465, 'healthcare': 2031, 'broken': 593, 'federal': 1584, 'confirm': 909, 'brett': 577, 'molester': 2895, 'traitorous': 4593, 'nazis': 3000, 'hr': 2149, 'dm': 1269, 'overcome': 3187, 'grandfather': 1901, 'celibate': 699, 'rally': 3619, 'mobilize': 2878, 'vice': 4765, 'arrange': 241, 'baggage': 344, 'fucktards': 1771, 'isnt': 2363, 'beneath': 435, 'roommate': 3813, 'messy': 2803, 'latino': 2516, 'mix': 2873, 'native': 2992, 'letter': 2565, 'cohort': 827, 'hookup': 2123, 'track': 4575, 'documentary': 1276, 'lauren': 2523, 'southern': 4179, 'research': 3738, 'patient': 3257, 'affair': 89, 'clueless': 816, 'communism': 866, 'treasonous': 4613, 'presidentialdebates': 3467, 'boom': 528, 'kelly': 2445, 'constituent': 933, 'aw': 319, 'basis': 379, 'fully': 1775, 'acknowledge': 47, 'traumatize': 4608, 'charm': 725, 'spoiled': 4220, 'odd': 3115, 'masturbate': 2739, 'breathe': 573, 'mic': 2816, 'repeatedly': 3714, 'purge': 3571, 'pool': 3409, 'fond': 1689, 'queer': 3589, 'favourite': 1573, 'hail': 1972, 'randomly': 3623, 'dna': 1271, 'serf': 3943, 'legally': 2553, 'advise': 86, 'friggin': 1752, 'heat': 2040, 'meghan': 2776, 'quietly': 3595, 'citizen': 781, 'corruption': 983, 'dragon': 1309, 'overdose': 3188, 'careful': 673, 'barren': 371, 'filter': 1634, 'demand': 1151, 'anne': 185, 'coach': 819, 'grateful': 1912, 'branch': 563, 'swing': 4394, 'gypsy': 1959, 'curse': 1072, 'anatomy': 172, 'resist': 3742, 'btw': 604, 'brainless': 561, 'exposure': 1506, 'score': 3896, 'badass': 341, 'exercise': 1486, 'accountability': 38, 'rumor': 3831, 'prefers': 3453, 'repulse': 3730, 'interesting': 2320, 'stroke': 4312, 'texting': 4470, 'national': 2989, 'private': 3493, 'soooo': 4166, 'nightclub': 3039, 'shred': 4023, 'invisible': 2341, 'map': 2718, 'merely': 2796, 'household': 2144, 'generation': 1818, 'misogyny': 2866, 'objectively': 3099, 'penalty': 3284, 'pitch': 3354, 'pale': 3214, 'exchange': 1479, 'skirt': 4076, 'beer': 411, 'bacon': 339, 'joy': 2418, 'dindu': 1213, 'violently': 4778, 'endorse': 1401, 'modest': 2885, 'calm': 649, 'mosque': 2926, 'desperately': 1181, 'falsely': 1539, 'tribe': 4621, 'whiny': 4881, 'fresh': 1743, 'civilization': 786, 'contract': 947, 'excite': 1480, 'resign': 3741, 'tent': 4454, 'compromise': 885, 'encourage': 1398, 'anime': 181, 'prominent': 3519, 'maxine': 2749, 'essence': 1442, 'magazine': 2686, 'melt': 2780, 'shithead': 3999, 'boo': 525, 'hoo': 2119, 'balding': 350, 'rely': 3700, 'shirley': 3996, 'supposedly': 4364, 'midget': 2822, 'eternal': 1449, 'happiness': 2000, 'bush': 628, 'comrade': 887, 'zog': 4998, 'eliminate': 1371, 'hike': 2075, 'aunt': 300, 'significant': 4038, 'loan': 2618, 'cow': 1004, 'disposable': 1248, 'breitbart': 576, 'poetry': 3392, 'oral': 3159, 'italy': 2368, 'ah': 109, 'creative': 1021, 'bachelor': 333, 'onlyfans': 3142, 'impregnate': 2224, 'ice': 2176, 'celebrate': 697, 'anal': 170, 'activity': 58, 'latinas': 2515, 'spain': 4185, 'quarantine': 3586, 'blog': 501, 'typically': 4667, 'dedicate': 1127, 'pride': 3480, 'formal': 1709, 'destructive': 1188, 'pit': 3353, 'invasion': 2334, 'denmark': 1161, 'meaning': 2758, 'powerful': 3438, 'hahahahahahah': 1970, 'gauge': 1803, 'feminazis': 1603, 'burden': 620, 'grown': 1936, 'giant': 1844, 'censor': 701, 'mirror': 2854, 'television': 4448, 'attribute': 296, 'socialize': 4136, 'digger': 1208, 'humor': 2160, 'un': 4678, 'organization': 3165, 'brave': 565, 'yard': 4973, 'perform': 3295, 'jihad': 2400, 'coke': 829, 'idiots': 2189, 'crybaby': 1052, 'illness': 2201, 'seal': 3909, 'corner': 976, 'parlor': 3236, 'jackson': 2375, 'pin': 3348, 'sheboon': 3987, 'bleach': 494, 'alcoholic': 123, 'hump': 2162, 'dem': 1150, 'outrageous': 3182, 'pizza': 3356, 'colour': 841, 'shaming': 3980, 'few': 1620, 'inch': 2238, 'storm': 4293, 'batter': 387, 'michigan': 2819, 'appeal': 215, 'officially': 3126, 'locker': 2624, 'bride': 580, 'patrol': 3262, 'homeland': 2108, 'staff': 4239, 'he': 2026, 'raw': 3642, 'concerned': 893, 'tommy': 4546, 'robinson': 3800, 'navy': 2997, 'braincels': 560, 'ive': 2371, 'idc': 2179, 'rough': 3820, 'brand': 564, 'shrooms': 4024, 'discard': 1229, 'peter': 3318, 'anonymous': 189, 'erase': 1434, 'crush': 1050, 'xx': 4970, 'chromosome': 770, 'batman': 385, 'simping': 4045, 'syria': 4402, 'iranian': 2348, 'chief': 749, 'mall': 2704, 'corrupt': 982, 'jack': 2373, 'meaningless': 2760, 'translation': 4602, 'stripper': 4311, 'severely': 3959, 'sh': 3969, 'bash': 376, 'calendar': 646, 'outdated': 3177, 'comedian': 847, 'memorable': 2784, 'hick': 2066, 'murphy': 2958, 'trauma': 4607, 'unusual': 4716, 'crash': 1013, 'perps': 3304, 'fork': 1707, 'silence': 4039, 'tradlife': 4581, 'cowardly': 1006, 'pressure': 3470, 'peer': 3280, 'retirement': 3759, 'snow': 4129, 'lurk': 2670, 'december': 1120, 'industry': 2259, 'dish': 1240, 'royal': 3824, 'quit': 3596, 'ghetto': 1841, 'insist': 2293, 'monica': 2906, 'apology': 211, 'popular': 3413, 'larping': 2506, 'feelz': 1591, 'abduct': 2, 'karen': 2434, 'disease': 1236, 'flake': 1657, 'maddow': 2680, 'patrice': 3260, 'bigotry': 459, 'rifle': 3779, 'flap': 1658, 'finger': 1644, 'flaw': 1662, 'extend': 1509, 'prob': 3499, 'abusive': 22, 'metoo': 2810, 'coal': 820, 'convo': 963, 'def': 1130, 'initiate': 2273, 'enable': 1396, 'boundary': 546, 'sorta': 4172, 'artist': 248, 'forest': 1703, 'raid': 3616, 'overly': 3189, 'comic': 852, 'task': 4425, 'flood': 1672, 'welfare': 4856, 'correctness': 981, 'abolish': 8, 'expert': 1499, 'polite': 3402, 'thankful': 4475, 'chunk': 773, 'thirsty': 4498, 'becomes': 406, 'lynch': 2673, 'scumbags': 3906, 'nofap': 3048, 'threesome': 4510, 'grocery': 1927, 'quiet': 3594, 'mainstream': 2696, 'combination': 843, 'phd': 3323, 'irish': 2351, 'ireland': 2350, 'pas': 3246, 'nobel': 3045, 'puppy': 3569, 'payment': 3267, 'bux': 636, 'intro': 2330, 'cue': 1058, 'organize': 3166, 'restaurant': 3753, 'bra': 556, 'username': 4735, 'emergency': 1384, 'centre': 705, 'militant': 2834, 'credible': 1025, 'credibility': 1024, 'third': 4496, 'maam': 2674, 'ahh': 111, 'cockroach': 823, 'katy': 2438, 'perry': 3305, 'inject': 2275, 'whimper': 4878, 'sin': 4050, 'kjv': 2468, 'homo': 2110, 'guys': 1954, 'cult': 1059, 'festival': 1615, 'own': 3198, 'grifter': 1924, 'delusional': 1149, 'denial': 1160, 'smoke': 4117, 'johnson': 2409, 'underwear': 4690, 'greek': 1919, 'curb': 1066, 'headline': 2029, 'prosecute': 3532, 'fifteen': 1626, 'local': 2621, 'soyboy': 4182, 'exception': 1477, 'tucker': 4642, 'woke': 4929, 'intent': 2313, 'literal': 2608, 'tendency': 4453, 'psychopath': 3551, 'fatty': 1566, 'booty': 532, 'rabbit': 3602, 'stream': 4302, 'anglin': 178, 'frog': 1755, 'park': 3234, 'roar': 3793, 'county': 996, 'attempted': 286, 'massive': 2737, 'graduate': 1896, 'heed': 2046, 'wisdom': 4916, 'sink': 4057, 'crookedhillary': 1043, 'milo': 2841, 'panel': 3220, 'asap': 251, 'hubby': 2151, 'notorious': 3072, 'trafficker': 4583, 'fantastic': 1548, 'bj': 482, 'hahahah': 1967, 'bob': 516, 'sea': 3908, 'ck': 788, 'jews': 2398, 'brutal': 601, 'anybody': 199, 'soap': 4131, 'trough': 4631, 'condemn': 898, 'currently': 1070, 'sterilize': 4277, 'bait': 346, 'bernie': 440, 'aggression': 104, 'beneficial': 436, 'se': 3907, 'jeff': 2388, 'hint': 2083, 'summary': 4352, 'archive': 231, 'weev': 4848, 'overreact': 3192, 'welp': 4858, 'blowjob': 508, 'dime': 1212, 'nevermind': 3026, 'insufferable': 2303, 'cesspool': 711, 'poster': 3428, 'affirmative': 92, 'penetrate': 3285, 'flog': 1671, 'genitals': 1826, 'torture': 4558, 'japan': 2380, 'volume': 4791, 'sexism': 3962, 'supremacy': 4367, 'terror': 4459, 'bolshevik': 519, 'banislam': 360, 'couldnt': 990, 'knew': 2471, 'breaking': 570, 'priority': 3489, 'fwb': 1783, 'analysis': 171, 'technology': 4442, 'remark': 3702, 'disney': 1244, 'brit': 586, 'loving': 2657, 'fictional': 1623, 'range': 3624, 'foundation': 1719, 'alex': 125, 'jones': 2413, 'infowars': 2270, 'ensure': 1415, 'van': 4749, 'potato': 3431, 'aspect': 259, 'therapy': 4482, 'nsfw': 3077, 'erotica': 1437, 'teamsmut': 4437, 'roast': 3794, 'pointless': 3394, 'gyow': 1958, 'incapable': 2232, 'waitress': 4805, 'gut': 1952, 'lecture': 2544, 'snatch': 4125, 'prisoner': 3491, 'nightmare': 3040, 'demon': 1156, 'orthodox': 3171, 'jihadist': 2403, 'governor': 1888, 'ancient': 174, 'narcissism': 2982, 'butcher': 632, 'momma': 2901, 'opponent': 3151, 'employ': 1390, 'final': 1637, 'curtain': 1073, 'stretch': 4306, 'gram': 1897, 'righteous': 3782, 'hypocrite': 2174, 'masculine': 2732, 'gaze': 1805, 'maximize': 2748, 'distribution': 1257, 'capacity': 664, 'singer': 4055, 'quota': 3598, 'receive': 3662, 'graphic': 1909, 'saying': 3876, 'sleeve': 4090, 'smug': 4119, 'gunpoint': 1951, 'workout': 4943, 'conviction': 959, 'discipline': 1230, 'exploit': 1504, 'uniform': 4700, 'collapse': 832, 'abandon': 0, 'desert': 1175, 'believing': 427, 'permanent': 3299, 'verbally': 4757, 'cake': 645, 'suit': 4349, 'computer': 886, 'loom': 2640, 'goddamn': 1868, 'carpet': 677, 'misfit': 2863, 'snack': 4121, 'offender': 3119, 'lure': 2669, 'hillaryclinton': 2080, 'eh': 1366, 'fraction': 1724, 'aka': 118, 'savior': 3872, 'provider': 3547, 'float': 1669, 'ocean': 3113, 'material': 2743, 'participation': 3241, 'productive': 3508, 'korean': 2482, 'born': 537, 'bisexual': 474, 'tow': 4568, 'fb': 1575, 'perfectly': 3294, 'perpetrator': 3302, 'defeat': 1132, 'brag': 558, 'tumblr': 4643, 'sweet': 4391, 'unicorn': 4699, 'rabbi': 3601, 'austria': 306, 'gtfo': 1938, 'evening': 1456, 'candy': 660, 'sandwich': 3856, 'co': 818, 'unite': 4706, 'allege': 135, 'walking': 4810, 'sicken': 4029, 'breath': 572, 'reap': 3659, 'independence': 2247, 'socially': 4137, 'inept': 2260, 'print': 3488, 'ie': 2191, 'pro': 3498, 'couch': 987, 'slutting': 4105, 'administration': 72, 'mute': 2967, 'limit': 2596, 'grand': 1899, 'reputation': 3732, 'fucked': 1765, 'dildo': 1211, 'congratulation': 917, 'roe': 3803, 'wade': 4802, 'pie': 3339, 'orgasm': 3167, 'clit': 806, 'stimulation': 4284, 'character': 721, 'warrior': 4825, 'impress': 2225, 'acquit': 51, 'investigation': 2339, 'surprising': 4374, 'feces': 1582, 'shack': 3970, 'kim': 2458, 'san': 3852, 'lame': 2498, 'sith': 4063, 'leash': 2541, 'pet': 3317, 'throughout': 4512, 'frequency': 1741, 'miracle': 2853, 'survivor': 4378, 'prayer': 3443, 'stair': 4243, 'dis': 1222, 'client': 800, 'unsure': 4714, 'naive': 2978, 'barber': 365, 'competent': 875, 'bonus': 524, 'tea': 4433, 'bare': 367, 'hung': 2164, 'tantrum': 4421, 'cheek': 733, 'felony': 1597, 'offense': 3120, 'motivate': 2933, 'discrimination': 1233, 'dying': 1341, 'rescue': 3737, 'wed': 4841, 'jersey': 2393, 'who': 4886, 'zionism': 4996, 'bat': 381, 'mitchell': 2872, 'recognize': 3666, 'thicc': 4488, 'spoiler': 4221, 'pregnancy': 3454, 'laughing': 2519, 'stock': 4288, 'hood': 2120, 'hairy': 1975, 'parade': 3225, 'dirt': 1220, 'vs': 4800, 'united': 4707, 'granddaughter': 1900, 'cheekbone': 734, 'narrow': 2986, 'longer': 2635, 'cooking': 966, 'rapey': 3630, 'blackmail': 484, 'spare': 4187, 'disturb': 1259, 'precious': 3447, 'hymen': 2170, 'acid': 46, 'attacker': 282, 'slug': 4102, 'thru': 4514, 'genius': 1827, 'ceo': 707, 'trannys': 4596, 'adapt': 65, 'lena': 2560, 'protection': 3539, 'screenshot': 3902, 'happens': 1998, 'whistle': 4883, 'sexuality': 3965, 'unemployed': 4691, 'whamen': 4866, 'fruit': 1757, 'westerner': 4861, 'wholesome': 4889, 'commentator': 855, 'lifestyle': 2587, 'stable': 4236, 'appropriate': 223, 'michael': 2817, 'avenatti': 316, 'breeding': 575, 'gov': 1886, 'hippy': 2085, 'noah': 3044, 'fighter': 1628, 'ummm': 4677, 'whereas': 4873, 'slag': 4081, 'spike': 4207, 'leaning': 2538, 'danny': 1099, 'devito': 1194, 'paedophile': 3203, 'stamp': 4250, 'vet': 4760, 'worldwide': 4947, 'overpay': 3191, 'blanket': 490, 'neighbor': 3014, 'blast': 491, 'fleece': 1664, 'muslimsaretheenemy': 2965, 'expelallmuslims': 1494, 'breed': 574, 'mike': 2829, 'hideous': 2069, 'sensitive': 3940, 'fds': 1578, 'wolf': 4930, 'envy': 1424, 'manner': 2716, 'mudsharks': 2947, 'facial': 1520, 'donkey': 1289, 'stalk': 4247, 'scheme': 3887, 'disrespect': 1252, 'andrew': 175, 'womyn': 4934, 'civilized': 787, 'entitled': 1421, 'apply': 220, 'device': 1192, 'license': 2583, 'patriot': 3261, 'aborted': 11, 'fetus': 1618, 'spic': 4206, 'abc': 1, 'looksmatched': 2639, 'hater': 2021, 'mood': 2916, 'abstract': 17, 'expel': 1493, 'roy': 3823, 'structure': 4314, 'alien': 128, 'amplify': 167, 'injured': 2277, 'ambulance': 158, 'felon': 1596, 'freshman': 1744, 'technically': 4441, 'aside': 255, 'de': 1111, 'adhere': 71, 'herd': 2058, 'poland': 3397, 'sting': 4285, 'conscious': 923, 'proper': 3527, 'insta': 2295, 'magical': 2689, 'hockey': 2098, 'vow': 4799, 'pakistan': 3211, 'immune': 2214, 'indoctrinate': 2257, 'shout': 4019, 'allahu': 133, 'akbar': 119, 'libtards': 2582, 'stalker': 4248, 'spray': 4227, 'soil': 4145, 'convert': 957, 'delude': 1147, 'blown': 509, 'weekly': 4847, 'earlier': 1347, 'parole': 3238, 'lipstick': 2603, 'permanently': 3300, 'rhetoric': 3769, 'pussypass': 3580, 'rampage': 3620, 'hence': 2057, 'butthurt': 634, 'rail': 3617, 'slack': 4080, 'monitor': 2907, 'moderate': 2883, 'adam': 64, 'clip': 805, 'ironically': 2355, 'blessing': 497, 'fucktard': 1770, 'hispanic': 2087, 'sweaty': 4387, 'foster': 1717, 'corporate': 977, 'ladder': 2492, 'ppl': 3439, 'mcdonalds': 2755, 'chubby': 771, 'platform': 3368, 'recount': 3669, 'disavow': 1228, 'academic': 24, 'generalization': 1815, 'phase': 3322, 'wrist': 4961, 'wedding': 4842, 'nra': 3076, 'deserves': 1177, 'key': 2449, 'judgment': 2423, 'station': 4261, 'survive': 4377, 'conference': 904, 'buck': 605, 'headache': 2028, 'doxxing': 1304, 'legitimate': 2556, 'lust': 2671, 'pillow': 3345, 'potus': 3434, 'grammar': 1898, 'extinct': 1512, 'arent': 233, 'mediocre': 2770, 'morbidly': 2921, 'et': 1447, 'al': 120, 'democratic': 1154, 'measure': 2763, 'bottom': 543, 'orient': 3169, 'capital': 665, 'punishment': 3566, 'sarcasm': 3860, 'lewd': 2567, 'urge': 4727, 'sow': 4180, 'spout': 4226, 'paradise': 3226, 'nxivm': 3088, 'temper': 4450, 'amirite': 163, 'sorority': 4168, 'manhood': 2710, 'helga': 2051, 'concrete': 897, 'ratio': 3638, 'palestinian': 3215, 'spouse': 4225, 'weakness': 4835, 'delay': 1142, 'bean': 395, 'stats': 4264, 'flee': 1663, 'peaceful': 3270, 'polish': 3401, 'instal': 2297, 'load': 2616, 'toy': 4574, 'sexualize': 3966, 'reproduction': 3726, 'suppress': 4365, 'compel': 873, 'episode': 1426, 'sudden': 4339, 'loretta': 2646, 'access': 29, 'miserably': 2861, 'understanding': 4689, 'subject': 4327, 'stefan': 4272, 'molyneux': 2898, 'rational': 3639, 'ship': 3995, 'infiltrate': 2264, 'mueller': 2948, 'sour': 4176, 'cracker': 1011, 'nurse': 3084, 'troop': 4628, 'prop': 3525, 'gravy': 1914, 'relax': 3695, 'contain': 941, 'failing': 1529, 'legacy': 2551, 'paradox': 3227, 'valuable': 4747, 'shameful': 3979, 'harry': 2013, 'setting': 3953, 'subtle': 4332, 'bee': 409, 'constant': 931, 'presence': 3461, 'capable': 663, 'neighborhood': 3015, 'freaking': 1736, 'libs': 2580, 'series': 3945, 'palin': 3216, 'honk': 2117, 'pervert': 3315, 'sadistic': 3842, 'von': 4794, 'historical': 2089, 'ag': 99, 'shitlord': 4001, 'fam': 1540, 'saggy': 3847, 'gettin': 1838, 'squirt': 4234, 'campus': 654, 'academia': 23, 'fawn': 1574, 'conquer': 921, 'prostitution': 3536, 'explicitly': 1502, 'smooth': 4118, 'reduce': 3676, 'remotely': 3709, 'repercussion': 3716, 'footage': 1694, 'barbarian': 364, 'bleed': 495, 'warning': 4823, 'alabama': 121, 'caucasian': 691, 'carolina': 675, 'arkansas': 236, 'wizard': 4925, 'jihadis': 2402, 'baron': 369, 'address': 70, 'nbc': 3003, 'psychology': 3550, 'possession': 3423, 'network': 3023, 'acceptance': 28, 'synagogue': 4400, 'millennial': 2837, 'roasties': 3796, 'cab': 641, 'proven': 3545, 'bros': 594, 'familiar': 1542, 'admire': 73, 'verify': 4758, 'accessory': 30, 'warm': 4821, 'stunt': 4320, 'anna': 184, 'soubry': 4173, 'guide': 1943, 'particularly': 3243, 'surround': 4375, 'irrelevant': 2357, 'juice': 2424, 'portray': 3417, 'mixed': 2874, 'sane': 3857, 'realistic': 3654, 'possess': 3422, 'invent': 2335, 'battle': 389, 'memory': 2785, 'dan': 1093, 'muslims': 2964, 'ape': 209, 'purposely': 3575, 'depress': 1171, 'niglet': 3041, 'mighty': 2825, 'intelligence': 2310, 'feral': 1612, 'barack': 363, 'invest': 2337, 'occasional': 3109, 'theyre': 4487, 'paid': 3205, 'turbo': 4646, 'era': 1433, 'mat': 2740, 'mossad': 2927, 'questionable': 3591, 'messenger': 2802, 'understandable': 4688, 'island': 2362, 'genetically': 1822, 'genuine': 1830, 'shall': 3974, 'heel': 2047, 'attractiveness': 295, 'wanker': 4817, 'button': 635, 'wipe': 4915, 'difficulty': 1206, 'inability': 2230, 'behaviour': 418, 'leech': 2546, 'hiv': 2093, 'min': 2842, 'narcissistic': 2984, 'upvoted': 4724, 'mechanism': 2765, 'lobby': 2620, 'fed': 1583, 'settlement': 3955, 'sir': 4058, 'cringey': 1034, 'pant': 3222, 'gee': 1807, 'comparison': 871, 'lawn': 2525, 'murderous': 2957, 'bimbo': 465, 'hugh': 2154, 'housing': 2146, 'integrity': 2307, 'rationalization': 3640, 'hamster': 1985, 'harder': 2006, 'fro': 1754, 'chuck': 772, 'grasp': 1910, 'reading': 3650, 'conspire': 930, 'hidden': 2067, 'asset': 265, 'acquire': 50, 'gen': 1811, 'wisely': 4918, 'truck': 4633, 'trailer': 4588, 'backwards': 338, 'rican': 3770, 'robber': 3798, 'fate': 1563, 'aint': 116, 'privately': 3494, 'elderly': 1368, 'bail': 345, 'tut': 4651, 'click': 799, 'agressive': 108, 'vacation': 4740, 'thailand': 4473, 'mile': 2831, 'melting': 2781, 'unethical': 4692, 'yoga': 4985, 'lolol': 2630, 'xd': 4969, 'pardon': 3231, 'severe': 3958, 'working': 4942, 'ivanka': 2370, 'logistics': 2628, 'sissy': 4059, 'inspire': 2294, 'earn': 1349, 'embarrassing': 1381, 'driving': 1321, 'fertile': 1613, 'confused': 915, 'mankind': 2713, 'females': 1600, 'textbook': 4468, 'vodka': 4788, 'riot': 3785, 'farm': 1553, 'commenter': 856, 'closed': 808, 'helmet': 2054, 'bike': 460, 'shower': 4022, 'jealousy': 2386, 'nikki': 3042, 'favour': 1572, 'fortunately': 1714, 'collaborator': 831, 'publish': 3558, 'ghostbusters': 1843, 'hrc': 2150, 'confession': 905, 'dickhead': 1197, 'author': 307, 'hahah': 1965, 'mras': 2941, 'oooh': 3145, 'gymnastics': 1956, 'tuck': 4641, 'tour': 4565, 'civil': 784, 'whim': 4877, 'wide': 4895, 'heartbeat': 2037, 'pipe': 3350, 'empowerment': 1394, 'fedora': 1585, 'effective': 1362, 'interpretation': 2325, 'rival': 3790, 'awfully': 326, 'draft': 1307, 'incompetent': 2242, 'smear': 4112, 'combine': 844, 'fantasize': 1547, 'met': 2805, 'unmarried': 4712, 'assure': 273, 'holster': 2105, 'glorious': 1862, 'bust': 630, 'pee': 3279, 'looney': 2643, 'union': 4702, 'pattern': 3263, 'endure': 1402, 'buying': 638, 'kink': 2463, 'frustrate': 1758, 'gaga': 1788, 'ultimately': 4675, 'ray': 3643, 'fierce': 1625, 'stormy': 4294, 'soft': 4143, 'wifey': 4898, 'overall': 3186, 'razor': 3644, 'blade': 487, 'tfw': 4472, 'india': 2249, 'alike': 129, 'pod': 3390, 'distance': 1255, 'injury': 2278, 'dishwasher': 1242, 'lover': 2656, 'fragile': 1725, 'frank': 1729, 'greece': 1917, 'safely': 3845, 'multiculturalism': 2952, 'newborn': 3028, 'hypocritical': 2175, 'bloom': 506, 'lately': 2512, 'sociopath': 4140, 'violation': 4775, 'clever': 798, 'transform': 4599, 'unwanted': 4717, 'gofundme': 1870, 'socialism': 4134, 'illuminati': 2202, 'violate': 4774, 'preferably': 3451, 'seven': 3956, 'mary': 2730, 'bug': 609, 'ioi': 2344, 'slogan': 4098, 'myth': 2973, 'frequently': 1742, 'charlie': 724, 'paycheck': 3266, 'imam': 2207, 'aussie': 303, 'iraq': 2349, 'factory': 1523, 'eager': 1345, 'tiger': 4523, 'macho': 2677, 'fo': 1680, 'mercy': 2794, 'consume': 939, 'guilt': 1945, 'runner': 3833, 'rampant': 3621, 'document': 1275, 'regret': 3686, 'compassion': 872, 'lookin': 2637, 'sideways': 4033, 'filth': 1635, 'nursing': 3085, 'nazism': 3001, 'extent': 1510, 'greitens': 1922, 'missouri': 2870, 'drain': 1310, 'outlet': 3180, 'abide': 5, 'hashtag': 2017, 'transfer': 4598, 'expense': 1495, 'wetback': 4863, 'explode': 1503, 'insanity': 2285, 'associate': 270, 'april': 228, 'numerous': 3082, 'resource': 3744, 'balloon': 352, 'embrace': 1383, 'james': 2378, 'perverted': 3316, 'obey': 3096, 'miscarriage': 2857, 'handful': 1988, 'international': 2322, 'starve': 4257, 'heh': 2049, 'ffs': 1621, 'chin': 754, 'rig': 3780, 'heartless': 2039, 'joker': 2412, 'marvel': 2727, 'tara': 4423, 'legs': 2558, 'femcel': 1601, 'moids': 2893, 'horseshit': 2134, 'dam': 1088, 'beaner': 396, 'scam': 3878, 'nordic': 3058, 'wealthy': 4837, 'impact': 2216, 'orbit': 3161, 'puerto': 3559, 'anthem': 193, 'rico': 3774, 'convenience': 952, 'racially': 3607, 'generous': 1820, 'modesty': 2886, 'presidential': 3466, 'mudshark': 2946, 'library': 2579, 'noble': 3046, 'hannity': 1994, 'novel': 3073, 'observe': 3104, 'blond': 502, 'aim': 115, 'spiritual': 4215, 'plead': 3376, 'knuckle': 2479, 'kraut': 2483, 'objectify': 3098, 'julie': 2425, 'living': 2613, 'slip': 4095, 'invention': 2336, 'blatant': 492, 'sinatra': 4051, 'squad': 4230, 'suicidal': 4347, 'miscegenation': 2858, 'swallow': 4383, 'radar': 3610, 'herpes': 2061, 'feedback': 1588, 'courage': 998, 'horrific': 2131, 'alley': 138, 'cycle': 1082, 'rotten': 3819, 'dodge': 1277, 'autism': 310, 'rob': 3797, 'stake': 4244, 'boycott': 552, 'brigade': 582, 'modify': 2887, 'redpilled': 3675, 'tribal': 4620, 'eachother': 1344, 'vid': 4769, 'ty': 4664, 'apparent': 213, 'oven': 3185, 'cortez': 984, 'insightful': 2291, 'poll': 3407, 'convenient': 953, 'believable': 424, 'giggle': 1849, 'semen': 3932, 'slit': 4096, 'kindly': 2461, 'strap': 4299, 'hunter': 2167, 'flatter': 1661, 'dowry': 1303, 'boyo': 554, 'photograph': 3329, 'ohio': 3130, 'thankfully': 4476, 'largely': 2504, 'insight': 2290, 'resident': 3740, 'outfit': 3178, 'shapiro': 3982, 'accent': 25, 'paranoid': 3228, 'uninterested': 4701, 'cherry': 743, 'franken': 1730, 'treachery': 4610, 'fck': 1577, 'tough': 4564, 'topless': 4556, 'dispute': 1249, 'spectrum': 4198, 'meteor': 2806, 'spinning': 4211, 'frankenstein': 1731, 'performance': 3296, 'downvote': 1301, 'sketch': 4070, 'salary': 3849, 'frantic': 1733, 'authoritarian': 308, 'motion': 2932, 'shocking': 4007, 'command': 853, 'permission': 3301, 'touchy': 4563, 'slight': 4093, 'kitten': 2467, 'unfair': 4693, 'founder': 1720, 'walnut': 4814, 'orgy': 3168, 'willfully': 4902, 'taboo': 4408, 'lower': 2659, 'banging': 358, 'dictate': 1198, 'generate': 1817, 'cease': 696, 'fry': 1760, 'vision': 4786, 'statistic': 4262, 'mestizo': 2804, 'sloppy': 4099, 'delicious': 1145, 'grade': 1895, 'acquaintance': 49, 'banana': 355, 'trashy': 4606, 'sooner': 4165, 'broke': 592, 'purse': 3576, 'kneel': 2470, 'brad': 557, 'blurt': 513, 'lb': 2530, 'pa': 3201, 'walkaway': 4809, 'gfs': 1840, 'evolve': 1469, 'walmart': 4813, 'insinuate': 2292, 'beef': 410, 'sooooo': 4167, 'fuckislam': 1769, 'od': 3114, 'hallmark': 1980, 'fugly': 1773, 'lunch': 2668, 'battery': 388, 'farmer': 1554, 'shake': 3973, 'onion': 3140, 'parody': 3237, 'brainwash': 562, 'fluid': 1677, 'assholes': 268, 'obnoxious': 3102, 'foolish': 1692, 'grooming': 1929, 'tape': 4422, 'disaster': 1227, 'square': 4231, 'barry': 372, 'innuendo': 2283, 'fighting': 1629, 'sometime': 4158, 'worlders': 4946, 'assumption': 272, 'koran': 2480, 'paki': 3210, 'determine': 1190, 'stat': 4258, 'genitalia': 1825, 'idiocy': 2186, 'stage': 4241, 'feast': 1580, 'cable': 642, 'slice': 4092, 'dope': 1294, 'latina': 2514, 'wheat': 4870, 'intentioned': 2315, 'stalin': 4246, 'christianity': 767, 'kickstarter': 2451, 'cc': 695, 'loyalty': 2661, 'ikr': 2197, 'reschedule': 3736, 'jewess': 2396, 'greedy': 1918, 'revolt': 3766, 'muscular': 2960, 'suggestion': 4346, 'orange': 3160, 'trad': 4576, 'pub': 3555, 'shitstorm': 4003, 'tradition': 4578, 'principle': 3487, 'romance': 3809, 'silverman': 4042, 'assassination': 263, 'circumcise': 778, 'burner': 623, 'robert': 3799, 'superhero': 4357, 'rice': 3771, 'priest': 3481, 'cowboy': 1007, 'billionaire': 464, 'whitegenocide': 4885, 'greet': 1921, 'barrel': 370, 'posting': 3429, 'poke': 3396, 'resent': 3739, 'diverse': 1263, 'spine': 4210, 'battlefield': 390, 'blah': 488, 'nog': 3049, 'secure': 3920, 'concert': 894, 'forcibly': 1699, 'supermodel': 4359, 'august': 299, 'gamergate': 1792, 'backlash': 337, 'salute': 3851, 'digital': 1209, 'consensual': 924, 'monthly': 2915, 'davis': 1108, 'methinks': 2808, 'translate': 4601, 'stevens': 4280, 'boss': 539, 'societal': 4138, 'tingle': 4529, 'fella': 1594, 'djt': 1268, 'redneck': 3673, 'gangbangs': 1794, 'sandal': 3854, 'civilisation': 785, 'council': 992, 'selection': 3928, 'congrats': 916, 'ate': 275, 'neg': 3011, 'deranged': 1173, 'hinge': 2082, 'coping': 972, 'construe': 938, 'burst': 625, 'shitposting': 4002, 'younger': 4988, 'peg': 3281, 'rino': 3784, 'bound': 545, 'grass': 1911, 'fist': 1650, 'waive': 4806, 'asleep': 258, 'creates': 1019, 'hefty': 2048, 'heather': 2041, 'instantly': 2300, 'tag': 4410, 'moan': 2875, 'mohammedan': 2892, 'prophet': 3530, 'scare': 3882, 'lap': 2501, 'deception': 1123, 'mafia': 2684, 'cartoon': 680, 'stephen': 4275, 'drinking': 1318, 'fatally': 1561, 'coochie': 964, 'conflate': 911, 'reposting': 3723, 'premise': 3456, 'harmless': 2011, 'ceremony': 708, 'coverage': 1003, 'virus': 4784, 'laden': 2493, 'sky': 4079, 'cutie': 1080, 'wound': 4957, 'fatherhood': 1565, 'testament': 4462, 'purple': 3573, 'haired': 1974, 'behold': 421, 'croak': 1040, 'express': 1507, 'senior': 3937, 'francis': 1728, 'picky': 3337, 'prospect': 3534, 'friends': 1749, 'protein': 3540, 'roman': 3808, 'previously': 3476, 'wherever': 4874, 'slang': 4083, 'discourse': 1231, 'admission': 74, 'xy': 4971, 'potter': 3433, 'copy': 973, 'citizenship': 782, 'frighten': 1753, 'flirty': 1668, 'saxon': 3874, 'wuz': 4967, 'merit': 2797, 'thigh': 4491, 'feinstein': 1592, 'bizarre': 481, 'excessive': 1478, 'constitute': 934, 'spitting': 4217, 'banish': 359, 'preach': 3445, 'titty': 4536, 'steer': 4271, 'dive': 1262, 'ideological': 2184, 'convict': 958, 'empathy': 1388, 'creation': 1020, 'dancer': 1095, 'used': 4731, 'persist': 3306, 'hillbilly': 2081, 'weirdo': 4854, 'wrap': 4959, 'announce': 186, 'handsome': 1991, 'tourism': 4566, 'parliament': 3235, 'tourist': 4567, 'collector': 836, 'sneaky': 4126, 'incident': 2239, 'houston': 2147, 'skit': 4077, 'wimp': 4906, 'fallacy': 1537, 'communicator': 865, 'mcconnell': 2754, 'collins': 838, 'bi': 452, 'persona': 3308, 'sharp': 3986, 'bowl': 549, 'cruise': 1048, 'formula': 1712, 'medicine': 2769, 'atm': 279, 'goo': 1876, 'miley': 2832, 'aryan': 249, 'louse': 2653, 'percent': 3291, 'brotherhood': 596, 'generic': 1819, 'convincing': 962, 'legend': 2554, 'flight': 1665, 'bend': 434, 'softness': 4144, 'log': 2625, 'net': 3021, 'shoulda': 4017, 'overt': 3193, 'statue': 4265, 'secretary': 3917, 'laughable': 2518, 'gasoline': 1799, 'grip': 1926, 'marxism': 2728, 'respectable': 3746, 'stir': 4287, 'premium': 3457, 'ed': 1357, 'desperation': 1182, 'playboy': 3370, 'noose': 3056, 'bud': 606, 'chicago': 746, 'weiner': 4851, 'grandpa': 1905, 'improvement': 2229, 'liberated': 2574, 'spinster': 4212, 'spat': 4188, 'hangout': 1993, 'ankle': 182, 'grace': 1894, 'spoon': 4222, 'squirm': 4233, 'knowing': 2476, 'breakdown': 569, 'plz': 3384, 'gps': 1892, 'geek': 1808, 'preacher': 3446, 'hahahahahahahahah': 1971, 'mere': 2795, 'jab': 2372, 'magistrate': 2691, 'boat': 515, 'winter': 4914, 'vouch': 4798, 'lease': 2540, 'midnight': 2823, 'trail': 4587, 'virtually': 4782, 'ginger': 1850, 'cher': 741, 'pilot': 3346, 'stale': 4245}\n"
          ]
        }
      ]
    },
    {
      "cell_type": "code",
      "source": [
        "print(Train_X_Tfidf)"
      ],
      "metadata": {
        "id": "W9cGAU_PLRk6"
      },
      "execution_count": null,
      "outputs": []
    },
    {
      "cell_type": "code",
      "source": [
        "# Classifier - SVM\n",
        "# fit the training dataset on the classifier\n",
        "SVM = svm.SVC(C=1.0, kernel='linear', degree=3, gamma='auto')\n",
        "SVM.fit(Train_X_Tfidf,Train_Y)\n",
        "\n",
        "# predict the labels on validation dataset\n",
        "predictions_SVM = SVM.predict(Test_X_Tfidf)\n"
      ],
      "metadata": {
        "colab": {
          "base_uri": "https://localhost:8080/"
        },
        "id": "_ILebB-rLar8",
        "outputId": "5bee4a63-01ea-48cb-e33f-e2ecd1163012"
      },
      "execution_count": null,
      "outputs": [
        {
          "output_type": "stream",
          "name": "stdout",
          "text": [
            "SVM Accuracy Score ->  83.5\n"
          ]
        }
      ]
    },
    {
      "cell_type": "code",
      "source": [
        "from sklearn import metrics\n",
        "\n",
        "print(\"Accuracy:\", metrics.accuracy_score(predictions_SVM, Test_Y))\n",
        "print(\"F1:\",metrics.f1_score(predictions_SVM, Test_Y, average=\"macro\"))\n",
        "\n",
        "# Model Precision: what percentage of positive tuples are labeled as such?\n",
        "print(\"Precision:\",metrics.precision_score(predictions_SVM, Test_Y, average=\"macro\"))\n",
        "\n",
        "# Model Recall: what percentage of positive tuples are labelled as such?\n",
        "print(\"Recall:\",metrics.recall_score(predictions_SVM, Test_Y, average=\"macro\"))"
      ],
      "metadata": {
        "colab": {
          "base_uri": "https://localhost:8080/"
        },
        "id": "c-CGDZXnMehl",
        "outputId": "bfa84eb6-2999-4488-aeca-dc5b035caab2"
      },
      "execution_count": null,
      "outputs": [
        {
          "output_type": "stream",
          "name": "stdout",
          "text": [
            "Accuracy: 0.835\n",
            "F1: 0.7135172776956182\n",
            "Precision: 0.6796767902998475\n",
            "Recall: 0.8572460977488325\n"
          ]
        }
      ]
    },
    {
      "cell_type": "code",
      "source": [],
      "metadata": {
        "id": "cVks4NnkMmx-"
      },
      "execution_count": null,
      "outputs": []
    }
  ]
}