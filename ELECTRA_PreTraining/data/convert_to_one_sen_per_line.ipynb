{
 "cells": [
  {
   "cell_type": "code",
   "execution_count": 1,
   "metadata": {},
   "outputs": [
    {
     "name": "stdout",
     "output_type": "stream",
     "text": [
      "Requirement already satisfied: nltk in c:\\users\\12build\\appdata\\local\\packages\\pythonsoftwarefoundation.python.3.10_qbz5n2kfra8p0\\localcache\\local-packages\\python310\\site-packages (3.8)\n",
      "Requirement already satisfied: tqdm in c:\\users\\12build\\appdata\\local\\packages\\pythonsoftwarefoundation.python.3.10_qbz5n2kfra8p0\\localcache\\local-packages\\python310\\site-packages (from nltk) (4.64.1)\n",
      "Requirement already satisfied: click in c:\\users\\12build\\appdata\\local\\packages\\pythonsoftwarefoundation.python.3.10_qbz5n2kfra8p0\\localcache\\local-packages\\python310\\site-packages (from nltk) (8.1.3)\n",
      "Requirement already satisfied: joblib in c:\\users\\12build\\appdata\\local\\packages\\pythonsoftwarefoundation.python.3.10_qbz5n2kfra8p0\\localcache\\local-packages\\python310\\site-packages (from nltk) (1.2.0)\n",
      "Requirement already satisfied: regex>=2021.8.3 in c:\\users\\12build\\appdata\\local\\packages\\pythonsoftwarefoundation.python.3.10_qbz5n2kfra8p0\\localcache\\local-packages\\python310\\site-packages (from nltk) (2022.10.31)\n",
      "Requirement already satisfied: colorama in c:\\users\\12build\\appdata\\local\\packages\\pythonsoftwarefoundation.python.3.10_qbz5n2kfra8p0\\localcache\\local-packages\\python310\\site-packages (from click->nltk) (0.4.6)\n"
     ]
    }
   ],
   "source": [
    "!pip install nltk\n",
    "import os\n",
    "from os.path import exists\n",
    "from nltk import tokenize"
   ]
  },
  {
   "cell_type": "code",
   "execution_count": 2,
   "metadata": {},
   "outputs": [
    {
     "name": "stdout",
     "output_type": "stream",
     "text": [
      "the training file reddit_1M_unlabelled_txt_1m.txt does not exist. will be created ...\n"
     ]
    }
   ],
   "source": [
    "origin_filepath = \"reddit_1M_unlabelled_txt.txt\"\n",
    "filepath = f\"reddit_1M_unlabelled_txt_1m.txt\"\n",
    "if  not exists(filepath):\n",
    "    print(f\"the training file {filepath} does not exist. will be created ...\")\n",
    "    with open(file=origin_filepath, mode='r' ,encoding='UTF-8') as f:\n",
    "        sentences=[]\n",
    "        text=f.readlines()\n",
    "    f.close()    \n",
    "    \n",
    "    with open(file=filepath, mode='w' ,encoding='UTF-8') as nf:\n",
    "        for line in text:\n",
    "                ls=tokenize.sent_tokenize(line)\n",
    "                for l in ls:\n",
    "                    nf.write(l)\n",
    "                    nf.write('\\n')\n",
    "\n",
    "        nf.close()            \n",
    "\n",
    "        "
   ]
  }
 ],
 "metadata": {
  "kernelspec": {
   "display_name": "Python 3",
   "language": "python",
   "name": "python3"
  },
  "language_info": {
   "codemirror_mode": {
    "name": "ipython",
    "version": 3
   },
   "file_extension": ".py",
   "mimetype": "text/x-python",
   "name": "python",
   "nbconvert_exporter": "python",
   "pygments_lexer": "ipython3",
   "version": "3.10.9 (tags/v3.10.9:1dd9be6, Dec  6 2022, 20:01:21) [MSC v.1934 64 bit (AMD64)]"
  },
  "orig_nbformat": 4,
  "vscode": {
   "interpreter": {
    "hash": "f8313b636845041188a4b65a4c70cb44411ee1f816787e5e7dc37635c7253351"
   }
  }
 },
 "nbformat": 4,
 "nbformat_minor": 2
}
